{
  "nbformat": 4,
  "nbformat_minor": 0,
  "metadata": {
    "colab": {
      "name": "Exam(ENG).ipynb",
      "version": "0.3.2",
      "provenance": [],
      "collapsed_sections": [
        "sTUO5_kFdOhp",
        "SiG7u4MPdOiG",
        "QQB7_YzNdOiJ",
        "eYhF2BANdOiV",
        "o2m3WC3sdOit",
        "JjY_m3zAdOi5",
        "wV1S6xn0dOjf",
        "pqeh6W7ndOjk",
        "IzAFBZcRdOjo",
        "EI0ChGZGdOjr",
        "PAfVjqqtdOju"
      ]
    },
    "kernelspec": {
      "name": "python3",
      "display_name": "Python 3"
    },
    "accelerator": "GPU"
  },
  "cells": [
    {
      "metadata": {
        "id": "hXayGj-ndOhd",
        "colab_type": "text"
      },
      "cell_type": "markdown",
      "source": [
        "# Entrance Challenge: When Will the Sakura Bloom?"
      ]
    },
    {
      "metadata": {
        "id": "LN1_FTvUdOhf",
        "colab_type": "text"
      },
      "cell_type": "markdown",
      "source": [
        "***\n",
        "\n",
        "**Name：Hoang Loc NGUYEN**\n",
        "\n",
        "**Email: hoangloc0402@gmail.com**\n",
        "\n",
        "**Submission Date：Mar 11th 2019**\n",
        "\n",
        "***"
      ]
    },
    {
      "metadata": {
        "id": "yxlhEaZ0dOhh",
        "colab_type": "code",
        "colab": {}
      },
      "cell_type": "code",
      "source": [
        "import urllib\n",
        "import re\n",
        "import pandas as pd\n",
        "import numpy as np\n",
        "import matplotlib.pyplot as plt\n",
        "from mpl_toolkits.mplot3d import Axes3D\n",
        "from pprint import pprint\n",
        "from sklearn.metrics import r2_score as sklearn_r2_score\n",
        "from copy import deepcopy as clone\n",
        "from datetime import date"
      ],
      "execution_count": 0,
      "outputs": []
    },
    {
      "metadata": {
        "id": "PI9JQHF2dOhl",
        "colab_type": "code",
        "colab": {}
      },
      "cell_type": "code",
      "source": [
        "def get_num_day_between(start_day, end_day):\n",
        "    delta = end_day -start_day\n",
        "    return delta.days"
      ],
      "execution_count": 0,
      "outputs": []
    },
    {
      "metadata": {
        "id": "xHhNGyQsdWNp",
        "colab_type": "code",
        "colab": {}
      },
      "cell_type": "code",
      "source": [
        "from google.colab import drive\n",
        "drive.mount('/content/drive')"
      ],
      "execution_count": 0,
      "outputs": []
    },
    {
      "metadata": {
        "id": "RGzhzm37dOhn",
        "colab_type": "text"
      },
      "cell_type": "markdown",
      "source": [
        "# 0. Basics of the Sakura Bloom-cycle (5pts total)"
      ]
    },
    {
      "metadata": {
        "id": "WkQcRoKXdOho",
        "colab_type": "text"
      },
      "cell_type": "markdown",
      "source": [
        "In a year, sakura trees basically go through 4 phases: energy production, hibernation, growth, and of course flowering. These phases\n",
        "roughly follow the seasons, but not exactly. <br>\n",
        "\n",
        "   Production phase： Initial development of the buds（Summer-Fall） <br>\n",
        "   Hibernation phase： Bud growth stops while the tree goes into hibernation（Late Fall-Winter） <br>\n",
        "   Growth phase： Buds once again continue to grow when the tree comes out of its winter hibernation（Late Winter-Spring） <br>\n",
        "   Flowering phase： The buds finally bloom in spring (as climate conditions allow), once they have been able to fully develop.（Spring） <br>\n",
        "    \n",
        "Each year, near the end of winter but before the trees finally bloom, the hibernation period ends. The sakura that rested through the winter once gain become metabolically active, and the buds continue to grow (though we may not immediately notice when this happens.) However, the cycle is not simply clockwork- for example, in places where the temperature is above 20℃ year-round, the trees are unable to hibernate sufficiently, and thus cannot blossom.\n",
        "    \n",
        "In this challenge, we have outlined the basic mechanism by which the sakura reach their eventual bloom-date. We consider building a bloom-date prediction model for the case of sakura in Tokyo, with the data split as follows: <br>\n",
        "    \n",
        "Test years： 1966, 1971, 1985, 1994, and 2008 <br>\n",
        "Training years: 1961 to 2017 (Excluding the test years) <br>\n",
        "    \n",
        "You should fit the model to the data from the training years, then use the model to predict the bloom-date for each of the test years. The 3 models to be applied to the data are described below.\n",
        "    \n"
      ]
    },
    {
      "metadata": {
        "id": "sTUO5_kFdOhp",
        "colab_type": "text"
      },
      "cell_type": "markdown",
      "source": [
        "### Problem 0-1: (5pts)\n",
        "Acquire data of sakura blooming date (桜の開花日) for Tokyo from 1961 to 2017 using the Japanese Meteorological Agency website (気象庁)."
      ]
    },
    {
      "metadata": {
        "id": "UtfktpUcdOhq",
        "colab_type": "code",
        "colab": {
          "base_uri": "https://localhost:8080/",
          "height": 119
        },
        "outputId": "e256b3ed-6466-4edb-aa43-68154f0f5090"
      },
      "cell_type": "code",
      "source": [
        "# Prepare urls for getting sakura blooming date data from JMA\n",
        "url_prefix = \"https://www.data.jma.go.jp/sakura/data/sakura003_0\"\n",
        "url_postfix = \".html\"\n",
        "urls = [url_prefix + str(x) + url_postfix for x in range(1,7)]\n",
        "pprint(urls)"
      ],
      "execution_count": 4,
      "outputs": [
        {
          "output_type": "stream",
          "text": [
            "['https://www.data.jma.go.jp/sakura/data/sakura003_01.html',\n",
            " 'https://www.data.jma.go.jp/sakura/data/sakura003_02.html',\n",
            " 'https://www.data.jma.go.jp/sakura/data/sakura003_03.html',\n",
            " 'https://www.data.jma.go.jp/sakura/data/sakura003_04.html',\n",
            " 'https://www.data.jma.go.jp/sakura/data/sakura003_05.html',\n",
            " 'https://www.data.jma.go.jp/sakura/data/sakura003_06.html']\n"
          ],
          "name": "stdout"
        }
      ]
    },
    {
      "metadata": {
        "id": "uOeuvGqQdOhv",
        "colab_type": "code",
        "colab": {}
      },
      "cell_type": "code",
      "source": [
        "# Function for getting data from one url of JMA website\n",
        "re.DOTALL = False\n",
        "def parse_url(url_input):\n",
        "    fp = urllib.request.urlopen(url_input)\n",
        "    raw_html_str = fp.read().decode(\"utf8\")\n",
        "    fp.close()\n",
        "    tokyo_line = re.findall(\"東京 .*\\n\",  raw_html_str)[0]\n",
        "    tokyo_num = re.findall(\"\\d.*\\d\", tokyo_line)[0]\n",
        "    tokyo_num = tokyo_num.split()[:-2]\n",
        "    tokyo_num = [int(num) for num in tokyo_num]\n",
        "    month = tokyo_num[0::2]\n",
        "    date = tokyo_num[1::2]\n",
        "    return month, date"
      ],
      "execution_count": 0,
      "outputs": []
    },
    {
      "metadata": {
        "inputHidden": false,
        "outputHidden": false,
        "id": "14kWazB8dOhy",
        "colab_type": "code",
        "colab": {}
      },
      "cell_type": "code",
      "source": [
        "# Getting sakura blooming date from the year of 1961 to 2017\n",
        "bloom_year = range(1961,2018)\n",
        "bloom_month = list()\n",
        "bloom_date = list()\n",
        "for url in urls:\n",
        "    mon, dat = parse_url(url)\n",
        "    bloom_month+=mon\n",
        "    bloom_date+=dat\n",
        "# Remove 2018\n",
        "bloom_month = bloom_month[:-1]\n",
        "bloom_date = bloom_date[:-1]\n",
        "tokyo_bloom_date_data = list(zip(bloom_year, bloom_month, bloom_date))"
      ],
      "execution_count": 0,
      "outputs": []
    },
    {
      "metadata": {
        "id": "A_74t9D6dOh1",
        "colab_type": "code",
        "colab": {
          "base_uri": "https://localhost:8080/",
          "height": 221
        },
        "outputId": "41b24b35-74a3-48d6-9929-c60426fcd822"
      },
      "cell_type": "code",
      "source": [
        "#Create Dataframe from sakura blooming date data\n",
        "print('Blooming data acquired from JMA website: ')\n",
        "pd.DataFrame.from_dict({'year':bloom_year, 'month': bloom_month, 'date': bloom_date}).iloc[0:5,]"
      ],
      "execution_count": 7,
      "outputs": [
        {
          "output_type": "stream",
          "text": [
            "Blooming data acquired from JMA website: \n"
          ],
          "name": "stdout"
        },
        {
          "output_type": "execute_result",
          "data": {
            "text/html": [
              "<div>\n",
              "<style scoped>\n",
              "    .dataframe tbody tr th:only-of-type {\n",
              "        vertical-align: middle;\n",
              "    }\n",
              "\n",
              "    .dataframe tbody tr th {\n",
              "        vertical-align: top;\n",
              "    }\n",
              "\n",
              "    .dataframe thead th {\n",
              "        text-align: right;\n",
              "    }\n",
              "</style>\n",
              "<table border=\"1\" class=\"dataframe\">\n",
              "  <thead>\n",
              "    <tr style=\"text-align: right;\">\n",
              "      <th></th>\n",
              "      <th>date</th>\n",
              "      <th>month</th>\n",
              "      <th>year</th>\n",
              "    </tr>\n",
              "  </thead>\n",
              "  <tbody>\n",
              "    <tr>\n",
              "      <th>0</th>\n",
              "      <td>1</td>\n",
              "      <td>4</td>\n",
              "      <td>1961</td>\n",
              "    </tr>\n",
              "    <tr>\n",
              "      <th>1</th>\n",
              "      <td>1</td>\n",
              "      <td>4</td>\n",
              "      <td>1962</td>\n",
              "    </tr>\n",
              "    <tr>\n",
              "      <th>2</th>\n",
              "      <td>1</td>\n",
              "      <td>4</td>\n",
              "      <td>1963</td>\n",
              "    </tr>\n",
              "    <tr>\n",
              "      <th>3</th>\n",
              "      <td>2</td>\n",
              "      <td>4</td>\n",
              "      <td>1964</td>\n",
              "    </tr>\n",
              "    <tr>\n",
              "      <th>4</th>\n",
              "      <td>2</td>\n",
              "      <td>4</td>\n",
              "      <td>1965</td>\n",
              "    </tr>\n",
              "  </tbody>\n",
              "</table>\n",
              "</div>"
            ],
            "text/plain": [
              "   date  month  year\n",
              "0     1      4  1961\n",
              "1     1      4  1962\n",
              "2     1      4  1963\n",
              "3     2      4  1964\n",
              "4     2      4  1965"
            ]
          },
          "metadata": {
            "tags": []
          },
          "execution_count": 7
        }
      ]
    },
    {
      "metadata": {
        "id": "WxfdWSicdOh5",
        "colab_type": "code",
        "colab": {
          "base_uri": "https://localhost:8080/",
          "height": 275
        },
        "outputId": "36c569bc-9b63-4eb1-a00c-7eb41b20ca73"
      },
      "cell_type": "code",
      "source": [
        "# Read data of Tokyo's weather condition from file\n",
        "data_path = '/content/drive/My Drive/Colab Notebooks/sakura-blossom/tokyo.csv'\n",
        "df_tokyo_weather = pd.read_csv(data_path, sep=',')\n",
        "# I use Google Translate to rename all column labels to English\n",
        "tokyo_weather_columns = [\"index\", \"year\", \"month\", \"date\",\"Local average pressure\", \n",
        "                         \"Sea level average pressure\", \"Total precipitation\", \n",
        "                         \"1 hour maximum precipitation\", \"10 minutes Maximum precipitation\", \n",
        "                         \"Average temperature\", \"Highest temperature\", \"Lowest Temperature\", \n",
        "                         \"Average humidity\", \"Minimum humidity\", \"Sunshine hours\"]\n",
        "df_tokyo_weather.set_axis(tokyo_weather_columns, axis = \"columns\", inplace=True)\n",
        "df_tokyo_weather.iloc[0:5,]"
      ],
      "execution_count": 11,
      "outputs": [
        {
          "output_type": "execute_result",
          "data": {
            "text/html": [
              "<div>\n",
              "<style scoped>\n",
              "    .dataframe tbody tr th:only-of-type {\n",
              "        vertical-align: middle;\n",
              "    }\n",
              "\n",
              "    .dataframe tbody tr th {\n",
              "        vertical-align: top;\n",
              "    }\n",
              "\n",
              "    .dataframe thead th {\n",
              "        text-align: right;\n",
              "    }\n",
              "</style>\n",
              "<table border=\"1\" class=\"dataframe\">\n",
              "  <thead>\n",
              "    <tr style=\"text-align: right;\">\n",
              "      <th></th>\n",
              "      <th>index</th>\n",
              "      <th>year</th>\n",
              "      <th>month</th>\n",
              "      <th>date</th>\n",
              "      <th>Local average pressure</th>\n",
              "      <th>Sea level average pressure</th>\n",
              "      <th>Total precipitation</th>\n",
              "      <th>1 hour maximum precipitation</th>\n",
              "      <th>10 minutes Maximum precipitation</th>\n",
              "      <th>Average temperature</th>\n",
              "      <th>Highest temperature</th>\n",
              "      <th>Lowest Temperature</th>\n",
              "      <th>Average humidity</th>\n",
              "      <th>Minimum humidity</th>\n",
              "      <th>Sunshine hours</th>\n",
              "    </tr>\n",
              "  </thead>\n",
              "  <tbody>\n",
              "    <tr>\n",
              "      <th>0</th>\n",
              "      <td>0</td>\n",
              "      <td>1961</td>\n",
              "      <td>1</td>\n",
              "      <td>1</td>\n",
              "      <td>1011.7</td>\n",
              "      <td>1012.4</td>\n",
              "      <td>0.0</td>\n",
              "      <td>0.0</td>\n",
              "      <td>0.0</td>\n",
              "      <td>2.1</td>\n",
              "      <td>7.9</td>\n",
              "      <td>-3.9</td>\n",
              "      <td>41</td>\n",
              "      <td>15</td>\n",
              "      <td>8.6</td>\n",
              "    </tr>\n",
              "    <tr>\n",
              "      <th>1</th>\n",
              "      <td>1</td>\n",
              "      <td>1961</td>\n",
              "      <td>1</td>\n",
              "      <td>2</td>\n",
              "      <td>1020.2</td>\n",
              "      <td>1021.0</td>\n",
              "      <td>0.0</td>\n",
              "      <td>0.0</td>\n",
              "      <td>0.0</td>\n",
              "      <td>1.5</td>\n",
              "      <td>9.2</td>\n",
              "      <td>-3.3</td>\n",
              "      <td>51</td>\n",
              "      <td>26</td>\n",
              "      <td>8.7</td>\n",
              "    </tr>\n",
              "    <tr>\n",
              "      <th>2</th>\n",
              "      <td>2</td>\n",
              "      <td>1961</td>\n",
              "      <td>1</td>\n",
              "      <td>3</td>\n",
              "      <td>1021.3</td>\n",
              "      <td>1022.1</td>\n",
              "      <td>0.1</td>\n",
              "      <td>0.8</td>\n",
              "      <td>0.0</td>\n",
              "      <td>2.5</td>\n",
              "      <td>7.3</td>\n",
              "      <td>-2.4</td>\n",
              "      <td>58</td>\n",
              "      <td>37</td>\n",
              "      <td>5.4</td>\n",
              "    </tr>\n",
              "    <tr>\n",
              "      <th>3</th>\n",
              "      <td>3</td>\n",
              "      <td>1961</td>\n",
              "      <td>1</td>\n",
              "      <td>4</td>\n",
              "      <td>1004.6</td>\n",
              "      <td>1005.3</td>\n",
              "      <td>20.2</td>\n",
              "      <td>13.9</td>\n",
              "      <td>3.2</td>\n",
              "      <td>4.7</td>\n",
              "      <td>11.5</td>\n",
              "      <td>0.6</td>\n",
              "      <td>60</td>\n",
              "      <td>38</td>\n",
              "      <td>1.0</td>\n",
              "    </tr>\n",
              "    <tr>\n",
              "      <th>4</th>\n",
              "      <td>4</td>\n",
              "      <td>1961</td>\n",
              "      <td>1</td>\n",
              "      <td>5</td>\n",
              "      <td>1016.3</td>\n",
              "      <td>1017.0</td>\n",
              "      <td>0.0</td>\n",
              "      <td>0.0</td>\n",
              "      <td>0.0</td>\n",
              "      <td>3.8</td>\n",
              "      <td>7.7</td>\n",
              "      <td>1.4</td>\n",
              "      <td>33</td>\n",
              "      <td>19</td>\n",
              "      <td>8.3</td>\n",
              "    </tr>\n",
              "  </tbody>\n",
              "</table>\n",
              "</div>"
            ],
            "text/plain": [
              "   index  year  month  date  Local average pressure  \\\n",
              "0      0  1961      1     1                  1011.7   \n",
              "1      1  1961      1     2                  1020.2   \n",
              "2      2  1961      1     3                  1021.3   \n",
              "3      3  1961      1     4                  1004.6   \n",
              "4      4  1961      1     5                  1016.3   \n",
              "\n",
              "   Sea level average pressure  Total precipitation  \\\n",
              "0                      1012.4                  0.0   \n",
              "1                      1021.0                  0.0   \n",
              "2                      1022.1                  0.1   \n",
              "3                      1005.3                 20.2   \n",
              "4                      1017.0                  0.0   \n",
              "\n",
              "   1 hour maximum precipitation  10 minutes Maximum precipitation  \\\n",
              "0                           0.0                               0.0   \n",
              "1                           0.0                               0.0   \n",
              "2                           0.8                               0.0   \n",
              "3                          13.9                               3.2   \n",
              "4                           0.0                               0.0   \n",
              "\n",
              "   Average temperature  Highest temperature  Lowest Temperature  \\\n",
              "0                  2.1                  7.9                -3.9   \n",
              "1                  1.5                  9.2                -3.3   \n",
              "2                  2.5                  7.3                -2.4   \n",
              "3                  4.7                 11.5                 0.6   \n",
              "4                  3.8                  7.7                 1.4   \n",
              "\n",
              "   Average humidity  Minimum humidity  Sunshine hours  \n",
              "0                41                15             8.6  \n",
              "1                51                26             8.7  \n",
              "2                58                37             5.4  \n",
              "3                60                38             1.0  \n",
              "4                33                19             8.3  "
            ]
          },
          "metadata": {
            "tags": []
          },
          "execution_count": 11
        }
      ]
    },
    {
      "metadata": {
        "id": "7aqueQ_HdOh9",
        "colab_type": "code",
        "colab": {}
      },
      "cell_type": "code",
      "source": [
        "df_tokyo = clone(df_tokyo_weather)\n",
        "df_tokyo['is blooming date'] = False\n",
        "\n",
        "for idx, row in df_tokyo.iterrows():\n",
        "    year, month, date = row['year'], row['month'], row['date']\n",
        "    if (year, month, date) in tokyo_bloom_date_data:\n",
        "        df_tokyo.loc[idx,'is blooming date'] = True"
      ],
      "execution_count": 0,
      "outputs": []
    },
    {
      "metadata": {
        "id": "CsK8nBzOdOiA",
        "colab_type": "code",
        "colab": {}
      },
      "cell_type": "code",
      "source": [
        "# Split the test and train data\n",
        "test_year = [1966, 1971, 1985, 1994, 2008] \n",
        "train_year = list(range(1961,2018))\n",
        "for year in test_year:\n",
        "    train_year.remove(year)\n",
        "    \n",
        "train_data = df_tokyo[~df_tokyo['year'].isin(test_year)]\n",
        "test_data = df_tokyo[df_tokyo['year'].isin(test_year)]"
      ],
      "execution_count": 0,
      "outputs": []
    },
    {
      "metadata": {
        "id": "ZREm-FdedOiD",
        "colab_type": "code",
        "colab": {
          "base_uri": "https://localhost:8080/",
          "height": 54
        },
        "outputId": "48bd79f6-2edb-425c-8b74-531f900dacdf"
      },
      "cell_type": "code",
      "source": [
        "print(train_year)"
      ],
      "execution_count": 14,
      "outputs": [
        {
          "output_type": "stream",
          "text": [
            "[1961, 1962, 1963, 1964, 1965, 1967, 1968, 1969, 1970, 1972, 1973, 1974, 1975, 1976, 1977, 1978, 1979, 1980, 1981, 1982, 1983, 1984, 1986, 1987, 1988, 1989, 1990, 1991, 1992, 1993, 1995, 1996, 1997, 1998, 1999, 2000, 2001, 2002, 2003, 2004, 2005, 2006, 2007, 2009, 2010, 2011, 2012, 2013, 2014, 2015, 2016, 2017]\n"
          ],
          "name": "stdout"
        }
      ]
    },
    {
      "metadata": {
        "id": "SiG7u4MPdOiG",
        "colab_type": "text"
      },
      "cell_type": "markdown",
      "source": [
        "***\n",
        "## 1. Prediction using the \"600 Degree Rule\" (15pts total)"
      ]
    },
    {
      "metadata": {
        "id": "pUMewhJLdOiH",
        "colab_type": "text"
      },
      "cell_type": "markdown",
      "source": [
        "For a rough approximaton of the bloom-date, we start with a simple \"rule-based\" prediction model, called the \"600 Degree Rule\". The rule consists of logging the maximum temperature of each day, starting  on February 1st, and sum these temperatures until the sum surpasses 600$^\\circ$C. The day that this happens is the predicted bloom-date. This 600$^\\circ$C threshold is used to easily predict bloom-date in various locations varies by location. However, for more precise predictions, it should be set differently for every location. In this challenge, we verify the accuracy of the \"600 Degree Rule\" in the case of Tokyo."
      ]
    },
    {
      "metadata": {
        "id": "8C03FSmodOiK",
        "colab_type": "code",
        "colab": {}
      },
      "cell_type": "code",
      "source": [
        "class predictor_600_degree_rule():\n",
        "    def __init__(self, df_tokyo):\n",
        "        self.T_mean = 0\n",
        "        self.df_tokyo = df_tokyo\n",
        "        self.accumulated_temperature = None\n",
        "        self.training_years = None\n",
        "        self.start_month = 2 # February 1st\n",
        "        self.start_date = 1\n",
        "        \n",
        "    # Input a year, a month, a day and get index of that day in df_tokyo\n",
        "    def get_idx(self, year, month, date):\n",
        "        idx = self.df_tokyo.loc[(self.df_tokyo['year'] == year) & \n",
        "                                 (self.df_tokyo['month'] == month) & \n",
        "                                 (self.df_tokyo['date'] == date)].index.tolist()[0]\n",
        "        return int(idx)  \n",
        "    \n",
        "    def fit(self, training_years):\n",
        "        self.training_years = training_years\n",
        "        self.accumulated_temperature = list()\n",
        "        \n",
        "        df_tokyo_bloom = self.df_tokyo[(self.df_tokyo['is blooming date'] == True) &\n",
        "                                      (self.df_tokyo['year'].isin(self.training_years))]\n",
        "        \n",
        "        for index, row in df_tokyo_bloom.iterrows():\n",
        "            bloom_year, bloom_month, bloom_date = row['year'], row['month'], row['date']\n",
        "            idx_start = self.get_idx(bloom_year, self.start_month, self.start_date)\n",
        "            idx_end = self.get_idx(bloom_year, bloom_month, bloom_date)\n",
        "        #     Get all daily maximum temperature from February 1st to the actual bloom-date\n",
        "            all_max_temp = list(self.df_tokyo['Highest temperature'].iloc[idx_start:idx_end + 1,])\n",
        "            self.accumulated_temperature.append(sum(all_max_temp))\n",
        "        self.T_mean = np.mean(self.accumulated_temperature)\n",
        "        \n",
        "    def plot(self):\n",
        "        plt.plot(self.training_years, self.accumulated_temperature)\n",
        "        plt.xlabel('Year')\n",
        "        plt.ylabel('Accumulated Temperature (°C)')\n",
        "        plt.plot(self.training_years, [600]*len(self.training_years))\n",
        "        plt.show()\n",
        "        \n",
        "    def get_T_mean(self): \n",
        "        return self.T_mean\n",
        "    \n",
        "    # Predict bloom date for years with a specified threshhold\n",
        "    def get_bloom_date(self, input_years, threshold):\n",
        "        bloom_date = list()\n",
        "        bloom_date_count = list()\n",
        "        for year in input_years:\n",
        "            df = self.df_tokyo[(df_tokyo['year'] == year) & \n",
        "                               (self.df_tokyo['month'] >= self.start_month)]\n",
        "            sum_temperature = 0\n",
        "            for idx, row in df.iterrows():\n",
        "                sum_temperature += row['Highest temperature']\n",
        "                if sum_temperature > threshold:\n",
        "                    num_of_date = idx - self.get_idx(year, self.start_month, self.start_date)\n",
        "                    bloom_date.append([year, row['month'], row['date']])\n",
        "                    bloom_date_count.append(num_of_date)\n",
        "                    break\n",
        "        return bloom_date, bloom_date_count\n",
        "    \n",
        "    def predict_with_T_mean(self, input_years):\n",
        "        return self.get_bloom_date(input_years, self.T_mean)\n",
        "    \n",
        "    def predict_with_600(self, input_years):\n",
        "        return self.get_bloom_date(input_years, 600)"
      ],
      "execution_count": 0,
      "outputs": []
    },
    {
      "metadata": {
        "id": "QQB7_YzNdOiJ",
        "colab_type": "text"
      },
      "cell_type": "markdown",
      "source": [
        "### Problem 1-1: (5pts)\n",
        "From here-on, we refer to the bloom-date in a given year $j$ as $BD_{j}$. For each year in the training data, calculate the accumulated daily maximum temperature from February 1st to the actual bloom-date $BD_{j}$, and plot this accumulated value over the training period. Then, average this accumulated value as $T_{mean}$, and verify whether we should use 600$^\\circ$C as a rule for Tokyo."
      ]
    },
    {
      "metadata": {
        "id": "TdvIBWm1dOiM",
        "colab_type": "code",
        "colab": {
          "base_uri": "https://localhost:8080/",
          "height": 34
        },
        "outputId": "e1cea0e5-fa0b-4132-b23f-71b18e65711b"
      },
      "cell_type": "code",
      "source": [
        "first_problem_predictor = predictor_600_degree_rule(df_tokyo)\n",
        "first_problem_predictor.fit(train_year)\n",
        "\n",
        "print('T_mean for the training data is: ', first_problem_predictor.get_T_mean())"
      ],
      "execution_count": 16,
      "outputs": [
        {
          "output_type": "stream",
          "text": [
            "T_mean for the training data is:  638.3557692307693\n"
          ],
          "name": "stdout"
        }
      ]
    },
    {
      "metadata": {
        "id": "wZCuCcyfdOiR",
        "colab_type": "code",
        "colab": {
          "base_uri": "https://localhost:8080/",
          "height": 361
        },
        "outputId": "b0056d2a-f13f-4219-9b52-459edc53b370"
      },
      "cell_type": "code",
      "source": [
        "first_problem_predictor.plot()"
      ],
      "execution_count": 17,
      "outputs": [
        {
          "output_type": "display_data",
          "data": {
            "image/png": "[encoded data removed]",
            "text/plain": [
              "<Figure size 576x396 with 1 Axes>"
            ]
          },
          "metadata": {
            "tags": []
          }
        }
      ]
    },
    {
      "metadata": {
        "id": "eYhF2BANdOiV",
        "colab_type": "text"
      },
      "cell_type": "markdown",
      "source": [
        "### Problem 1-2: (10pts)\n",
        "\n",
        "Use the average accumulated value $T_{mean}$ calculated in 1-1 to predict $BD_{j}$ for each test year, and show the error from the actual $BD_{j}$. Compare to the prediction results when 600$^\\circ$C is used a threshold value, and evaluate both models using the coefficient of determination ($R^2$ score)."
      ]
    },
    {
      "metadata": {
        "id": "qUIftDlidOiX",
        "colab_type": "code",
        "colab": {
          "base_uri": "https://localhost:8080/",
          "height": 85
        },
        "outputId": "2749cec6-157b-4729-b484-8a77ed6a0950"
      },
      "cell_type": "code",
      "source": [
        "# Get number of date from Feb 1st to the predicted blooming date (for both T_mean and 600 degree threshold)\n",
        "BD_T, BD_count_T = first_problem_predictor.predict_with_T_mean(test_year)\n",
        "BD_600, BD_count_600 = first_problem_predictor.predict_with_600(test_year)\n",
        "print('BD_j predicted with T_mean:     ', BD_T)\n",
        "print('BD_j predicted with 600 degree: ', BD_600)\n",
        "print('BD_j count predicted with T_mean:     ', BD_count_T)\n",
        "print('BD_j count predicted with 600 degree: ', BD_count_600)"
      ],
      "execution_count": 18,
      "outputs": [
        {
          "output_type": "stream",
          "text": [
            "BD_j predicted with T_mean:      [[1966, 3, 23], [1971, 3, 29], [1985, 4, 1], [1994, 3, 31], [2008, 3, 25]]\n",
            "BD_j predicted with 600 degree:  [[1966, 3, 20], [1971, 3, 27], [1985, 3, 29], [1994, 3, 28], [2008, 3, 23]]\n",
            "BD_j count predicted with T_mean:      [50, 56, 59, 58, 53]\n",
            "BD_j count predicted with 600 degree:  [47, 54, 56, 55, 51]\n"
          ],
          "name": "stdout"
        }
      ]
    },
    {
      "metadata": {
        "id": "pRZBTKHHdOib",
        "colab_type": "code",
        "colab": {
          "base_uri": "https://localhost:8080/",
          "height": 34
        },
        "outputId": "db78971e-0e19-44ab-a28d-2109f0f2dba2"
      },
      "cell_type": "code",
      "source": [
        " # Input a year, a month, a day and get index of that day in df_tokyo\n",
        "def get_idx(year, month, date):\n",
        "    idx = df_tokyo.loc[(df_tokyo['year'] == year) & \n",
        "                     (df_tokyo['month'] == month) & \n",
        "                     (df_tokyo['date'] == date)][0:1]['index']\n",
        "    return int(idx)  \n",
        "\n",
        "# Get the number of date from Feb 1st to the actual blooming date of years in testing years\n",
        "BD_count_actual = list()\n",
        "for index, row in test_data.iterrows():\n",
        "    if not row['is blooming date']:\n",
        "        continue\n",
        "    bloom_year, bloom_month, bloom_date = row['year'], row['month'], row['date']\n",
        "    idx_start = get_idx(bloom_year, 2, 1)\n",
        "    idx_end   = get_idx(bloom_year, bloom_month, bloom_date)\n",
        "    BD_count_actual.append(idx_end - idx_start)\n",
        "    \n",
        "print('Actual BD_j count: ', BD_count_actual)"
      ],
      "execution_count": 19,
      "outputs": [
        {
          "output_type": "stream",
          "text": [
            "Actual BD_j count:  [47, 57, 61, 58, 50]\n"
          ],
          "name": "stdout"
        }
      ]
    },
    {
      "metadata": {
        "id": "EsM3XTWzdOih",
        "colab_type": "code",
        "colab": {
          "base_uri": "https://localhost:8080/",
          "height": 68
        },
        "outputId": "9df20512-5edb-4a67-8c1a-99ac9048de25"
      },
      "cell_type": "code",
      "source": [
        "print('Compute R2 score using sklearn:')\n",
        "print('R2 Score for the threshold of 600:    ',sklearn_r2_score(BD_count_actual, BD_count_600))\n",
        "print('R2 Score for the threshold of T_mean: ',sklearn_r2_score(BD_count_actual, BD_count_T))"
      ],
      "execution_count": 20,
      "outputs": [
        {
          "output_type": "stream",
          "text": [
            "Compute R2 score using sklearn:\n",
            "R2 Score for the threshold of 600:     0.6793002915451896\n",
            "R2 Score for the threshold of T_mean:  0.8323615160349854\n"
          ],
          "name": "stdout"
        }
      ]
    },
    {
      "metadata": {
        "id": "FOPEWHKhdOil",
        "colab_type": "code",
        "colab": {}
      },
      "cell_type": "code",
      "source": [
        "def r2_score(y_true, y_pred):\n",
        "    y_true_mean = np.mean(y_true)\n",
        "    SS_total = sum([(y-y_true_mean)**2 for y in y_true])\n",
        "    SS_res = sum([(yi-fi)**2 for yi, fi in zip(y_true, y_pred)])\n",
        "    return 1 - SS_res/SS_total"
      ],
      "execution_count": 0,
      "outputs": []
    },
    {
      "metadata": {
        "id": "SazrJpw0dOio",
        "colab_type": "code",
        "colab": {
          "base_uri": "https://localhost:8080/",
          "height": 68
        },
        "outputId": "5ae15ceb-d561-4fa2-def6-f6b90133bcb7"
      },
      "cell_type": "code",
      "source": [
        "print('Compute R2 score using self-implemented function:')\n",
        "print('R2 Score for the threshold of 600:    ',r2_score(BD_count_actual, BD_count_600))\n",
        "print('R2 Score for the threshold of T_mean: ',r2_score(BD_count_actual, BD_count_T))"
      ],
      "execution_count": 22,
      "outputs": [
        {
          "output_type": "stream",
          "text": [
            "Compute R2 score using self-implemented function:\n",
            "R2 Score for the threshold of 600:     0.6793002915451896\n",
            "R2 Score for the threshold of T_mean:  0.8323615160349854\n"
          ],
          "name": "stdout"
        }
      ]
    },
    {
      "metadata": {
        "id": "qdKYNiE1dOir",
        "colab_type": "text"
      },
      "cell_type": "markdown",
      "source": [
        "***\n",
        "## 2. Linear Regression Model: Transform to Standard Temperature (30pts total)"
      ]
    },
    {
      "metadata": {
        "id": "-cVtIQgmdOi4",
        "colab_type": "text"
      },
      "cell_type": "markdown",
      "source": [
        "The year to year fluctuation of the bloom-date depends heavily upon the actual temperature fluctuation (not just the accumulated maximum). In order to get to a more physiologically realistic metric,  Sugihara et al. (1986) considered the actual effect of temperature on biochemical activity. They introduced a method of \"standardizing\" the temperatures measured, according to the fluctuation relative to a standard temperature.\n",
        "\n",
        "In order to make such a standardization, we apply two major assumptions, outlined below.\n",
        "\n",
        "#### 1) The Arrhenius equation: <br>\n",
        "\n",
        "The first assumption, also known in thermodynamics as the \"Arrhenius equation\", deals with chemical reaction rates and can be written as follows:\n",
        "\n",
        "$$\n",
        "k = A \\exp{ \\Bigl(- \\frac{E_{a}}{RT}} \\Bigr)\n",
        "$$ <br>\n",
        "\n",
        "Basically, it says that each reaction has an activation energy, $E_{a}$ and a pre-exponential factor $A$. Knowing these values for the particular equation, we can find the rate constant $k$ if we know the temperature, $T$, and applying the universal gas constant, $R = 8.314 \\rm [J/K・mol]$.\n",
        "\n",
        "#### 2) Constant output at constant temperature: <br>\n",
        "\n",
        "The second assumption, is simply that the output of a reaction is a simple product of the duration and the rate constant $k$, and that product is constant even at different temperatures.\n",
        "    \n",
        "$$\n",
        "tk = t'k' = t''k'' = \\cdots = \\rm{const}\n",
        "$$ <br>\n",
        "\n",
        "\n",
        "Making the assumptions above, we can determine a \"standard reaction time\", $t_{s}$ required for the bloom-date to occur. We can do so in the following way:\n",
        "\n",
        "<br>\n",
        "$$\n",
        "t_{s} = \\exp \\Bigl( \\frac{E_{a}(T_{i, j} - T_{s})}{RT_{i, j}T_{s}}\\Bigr)\n",
        "$$ <br>\n",
        "\n",
        "We define $T_{i, j}$ as the daily average temperature, and use a standard temperature of $T_{s} = 17^\\circ\\rm{C}$. For a given year $j$, with the last day of the hibernation phase set as $D_ {j}$, we define the number of \"transformed temperature days\",  $DTS_{ J}$,  needed to reach from $D_ {j}$ to the bloom-date $BD_{j}$ with the following equation:\n",
        "\n",
        "\n",
        "<br>\n",
        "$$\n",
        "DTS_{j} = \\sum_{i=D_{j}}^{BD_{j}} t_{s} = \\sum_{i=D_{j}}^{BD_{j}} \\exp \\Bigl( \\frac{E_{a}(T_{i, j} - T_{s})}{RT_{i, j}T_{s}}\\Bigr)\n",
        "$$ <br>\n",
        "\n",
        "\n",
        "\n",
        "From that equation, we can find the average $DTS$ for $x$ number of years ($DTS_{ mean}$) as follows: \n",
        "\n",
        "<br>\n",
        "$$\n",
        "\\begin{align}\n",
        "DTS_{\\rm{mean}} &= \\frac{1}{x} \\sum_{j}^{x} DTS_{j} \\\\\n",
        "&= \\frac{1}{x} \\sum_{j}^{x} \\sum_{i=D_{j}}^{BD_{j}} \\exp \\Bigl( \\frac{E_{a}(T_{i, j} - T_{s})}{RT_{i, j}T_{s}}\\Bigr)\n",
        "\\end{align}\n",
        "$$ <br> <br>\n",
        "\n",
        "In this exercise, we assume that $DTS_{ mean}$ and $E_{ a}$ are constant values, and we use the data from the training years to fit these 2 constants. The exercise consists of 4 steps:\n",
        "1. Calculate the last day of the hibernation phase $D_ {j}$ for every year $j$.\n",
        "2. For every year $j$, calculate $DTS_{ j}$ as a function of $E_{ a}$, then calculate the average (over training years) $DTS_{ mean}$ also as a function of $E_{ a}$.\n",
        "3. For every year $j$, and for every value of $E_{ a}$, accumulate $t_{s}$ from $D_ {j}$ and predict the bloom date $BD_{j}^{\\rm{pred}}$ as the day the accumulated value surpasses $DTS_{ mean}$. Calculate the bloom date prediction error as a function of $E_{ a}$, and find the optimal $E_{ a}$ value that minimizes that error.\n",
        "4. Use the previously calculated values of $D_ {j}$, $DTS_{ mean}$, and $E_{ a}$ to predict bloom-day on years from the test set.\n"
      ]
    },
    {
      "metadata": {
        "id": "mdkJg3Uhf6AD",
        "colab_type": "code",
        "colab": {}
      },
      "cell_type": "code",
      "source": [
        "# Just define some constants\n",
        "PHI = 35 + 40/60\n",
        "PHI2 = np.power(PHI,2)\n",
        "L = 4\n",
        "lnL = np.log(L)\n",
        "T_s = 17\n",
        "R = 8.314"
      ],
      "execution_count": 0,
      "outputs": []
    },
    {
      "metadata": {
        "id": "iN727VwIels5",
        "colab_type": "code",
        "colab": {}
      },
      "cell_type": "code",
      "source": [
        "class predictor_linear_reg_model():\n",
        "  def __init__(self, df_tokyo):\n",
        "    self.df_tokyo = df_tokyo\n",
        "    self.training_years = None\n",
        "    self.D_j = dict()\n",
        "    self.E_a = range(5, 41)\n",
        "    self.E_a_MSE = dict()\n",
        "    self.df_DTS_j = None\n",
        "    self.DTS_mean = None\n",
        "    self.best_Ea = None\n",
        "    \n",
        "#    According to Hayashi\n",
        "  def get_Dj(self, year):\n",
        "      avg_temp_3_month = self.df_tokyo[(self.df_tokyo['year']==year) &\n",
        "                         (self.df_tokyo['month']<=3)]['Average temperature']\n",
        "      T_F = np.mean(avg_temp_3_month)\n",
        "      Dj = 136.75 - 7.689*PHI + 0.133*PHI2 - 1.307*lnL + 0.144*T_F + 0.285*np.power(T_F,2)\n",
        "      return int(Dj)\n",
        "    \n",
        "  def get_T_ij(self, i, j):\n",
        "      df = clone(self.df_tokyo[self.df_tokyo['year']==j])\n",
        "      df.reset_index(drop=True, inplace = True)\n",
        "      return df.iloc[i-1].loc['Average temperature']\n",
        "\n",
        "  def get_t_s(self, E_a, i, j):\n",
        "      T_ij = self.get_T_ij(i, j)\n",
        "      numer = E_a*(T_ij - T_s)\n",
        "      denom = R*np.abs(T_ij)*T_s\n",
        "      return np.exp(numer/denom)\n",
        "\n",
        "  def get_DTS_j(self, E_a, year):\n",
        "      df = clone(self.df_tokyo[self.df_tokyo['year']==year])\n",
        "      df.reset_index(drop=True, inplace = True)\n",
        "\n",
        "      D_j = self.get_Dj(year)\n",
        "      self.D_j[year] = D_j\n",
        "      \n",
        "      BD_j = 0\n",
        "      for index, row in df.iterrows():\n",
        "          if row['is blooming date']:\n",
        "              BD_j = index + 1\n",
        "              break\n",
        "      DTS_j = 0\n",
        "      for i in range(D_j, BD_j):         \n",
        "          DTS_j += self.get_t_s(E_a, i, year)\n",
        "      return DTS_j \n",
        "  \n",
        "  def fit(self, training_years):\n",
        "    self.training_years = training_years\n",
        "    self.df_DTS_j = pd.DataFrame(columns=['E_a']+ self.training_years)\n",
        "\n",
        "    for e_a in self.E_a:\n",
        "      DTS_j = list()\n",
        "      for year in self.training_years:\n",
        "          DTS_j.append(self.get_DTS_j(e_a, year))\n",
        "      self.df_DTS_j.loc[len(self.df_DTS_j)] = [e_a] + DTS_j\n",
        "    \n",
        "    self.DTS_mean = list(df_DTS_j.iloc[:,1:].mean(axis='rows'))\n",
        "    self.optimize_Ea()\n",
        "    \n",
        "  def optimize_Ea(self):\n",
        "    for e_a in self.E_a:\n",
        "      self.E_a_MSE[e_a] = self.compute_MSE(e_a)\n",
        "    min = 0\n",
        "    for key, value in self.E_a_MSE.item():\n",
        "      if min == 0:\n",
        "        self.best_Ea = key\n",
        "        min = value\n",
        "      else:\n",
        "        if value < min:\n",
        "          min = value\n",
        "          self.best_Ea = key\n",
        "    \n",
        "  \n",
        "  def compute_MSE(self, E_a):\n",
        "    SE_list = list()\n",
        "    DTS_Ea = df_DTS_j[df_DTS_j['E_a'] == 5].iloc[0:1,]\n",
        "    DTS_Ea = DTS_Ea.values[1:]\n",
        "    for year, DTS in zip(self.training_years, DTS_Ea):\n",
        "      BD = self.D_j[year] + DTS\n",
        "      SE = self.compute_square_error(BD ,year)\n",
        "      SE_list.append(SE)\n",
        "    return np.mean(SE_list)\n",
        "    \n",
        "  def compute_square_error(self, BD_j, year):\n",
        "    df = clone(self.df_tokyo[self.df_tokyo['year']==year])\n",
        "    df.reset_index(drop=True, inplace = True)\n",
        "    actual_BD = 0;\n",
        "    for index, row in df.iterrows():\n",
        "      if row['is blooming date']:\n",
        "        actual_BD = index +1\n",
        "        break;\n",
        "    square_error = (actual_BD - BD_j)**2\n",
        "    return square_error\n",
        "  \n",
        "  def predict(self, year):\n",
        "    if self.best_Ea is None:\n",
        "      print('You must fit the training data first!')\n",
        "      return\n",
        "    DTS_j = self.get_DTS_j(self.best_Ea, year)\n",
        "    BD_j = self.D_j[year] + DTS_j\n",
        "    return BD_j\n",
        "        \n",
        "    \n",
        "#     Just some getter\n",
        "    \n",
        "  def get_DTS_mean(self):\n",
        "    return self.DTS_mean\n",
        "  \n",
        "  def get_df_DTS_j(self):\n",
        "    return self.df_DTS_j  \n",
        "    "
      ],
      "execution_count": 0,
      "outputs": []
    },
    {
      "metadata": {
        "id": "o2m3WC3sdOit",
        "colab_type": "text"
      },
      "cell_type": "markdown",
      "source": [
        "### Problem 2-1: (5pts)\n",
        "According to Hayashi et al. (2012), the day on which the sakura will awaken from their hibernation phase, $D_{j}$, for a given location, can be approximated by the following equation:\n",
        "<br> <br>\n",
        "$$\n",
        "D_{j} = 136.75 - 7.689 \\phi + 0.133 \\phi^{2} -1.307\\ln L + 0.144T_{F} + 0.285T_{F}^2\n",
        "$$ <br>\n",
        "\n",
        "where $\\phi$ is the latitude [°N], $L$ is the distance from the nearest coastline [km], and $T_{F}$ is that location's average temperature [°C] over the first 3 months of a given year. In the case of Tokyo, $\\phi = 35°40'$ and $L=4\\rm{km}$.\n",
        "\n",
        "Find the $D_{j}$ value for every year $j$ from 1961 to 2017 (including the test years), and plot this value on a graph. \n",
        "\n",
        "(In Problem 1, we had assumed a $D_j$ of February 1st.)"
      ]
    },
    {
      "metadata": {
        "id": "4Mn0yMSisO2g",
        "colab_type": "code",
        "colab": {}
      },
      "cell_type": "code",
      "source": [
        "second_problem_predictor = predictor_linear_reg_model(df_tokyo)"
      ],
      "execution_count": 0,
      "outputs": []
    },
    {
      "metadata": {
        "id": "MZosDcsBdOix",
        "colab_type": "code",
        "colab": {}
      },
      "cell_type": "code",
      "source": [
        "D_j_dict = dict()\n",
        "D_j_list = list()\n",
        "\n",
        "for year in range(1961, 2018):\n",
        "    Dj = second_problem_predictor.get_Dj(year)\n",
        "    D_j_dict[year] = Dj\n",
        "    D_j_list.append(Dj)"
      ],
      "execution_count": 0,
      "outputs": []
    },
    {
      "metadata": {
        "id": "QlPB6p2DdOi0",
        "colab_type": "code",
        "colab": {
          "base_uri": "https://localhost:8080/",
          "height": 361
        },
        "outputId": "8e38935e-3f11-44c8-89ce-9c3773fce849"
      },
      "cell_type": "code",
      "source": [
        "plt.plot(range(1961, 2018), D_j_list, \"r-\")\n",
        "plt.xlabel('Year')\n",
        "plt.ylabel('Dj')\n",
        "plt.show()"
      ],
      "execution_count": 26,
      "outputs": [
        {
          "output_type": "display_data",
          "data": {
            "image/png": "[encoded data removed]",
            "text/plain": [
              "<Figure size 576x396 with 1 Axes>"
            ]
          },
          "metadata": {
            "tags": []
          }
        }
      ]
    },
    {
      "metadata": {
        "id": "JjY_m3zAdOi5",
        "colab_type": "text"
      },
      "cell_type": "markdown",
      "source": [
        "### Problem 2-2: (10pts)\n",
        "Calcluate $DTS_j$ for each year $j$ in the training set for discrete values of $E_{a}$, varying from 5 to 40kcal ($E_{a} = 5, 6, 7, \\cdots, 40 \\,\\rm{kcal}$), and plot this $DTS_j$ against $E_{a}$. Also calculate the average of $DTS_{j}$ over the training period, and indicate it on the plot as $DTS_{mean}$. Pay attention to the units of **every parameter** ($T_{i,j}$, $E_{a}$, ...) in the equation for $t_{s}$. \n"
      ]
    },
    {
      "metadata": {
        "id": "Xrua3fjUdOi8",
        "colab_type": "code",
        "colab": {}
      },
      "cell_type": "code",
      "source": [
        "second_problem_predictor = predictor_linear_reg_model(df_tokyo)\n",
        "second_problem_predictor.fit(train_year)"
      ],
      "execution_count": 0,
      "outputs": []
    },
    {
      "metadata": {
        "scrolled": true,
        "id": "M6JsSMmUdOjA",
        "colab_type": "code",
        "colab": {
          "base_uri": "https://localhost:8080/",
          "height": 408
        },
        "outputId": "c6133e54-b361-44bd-afec-5262ae8f0be2"
      },
      "cell_type": "code",
      "source": [
        "second_problem_predictor.get_df_DTS_j()[0:10]"
      ],
      "execution_count": 106,
      "outputs": [
        {
          "output_type": "execute_result",
          "data": {
            "text/html": [
              "<div>\n",
              "<style scoped>\n",
              "    .dataframe tbody tr th:only-of-type {\n",
              "        vertical-align: middle;\n",
              "    }\n",
              "\n",
              "    .dataframe tbody tr th {\n",
              "        vertical-align: top;\n",
              "    }\n",
              "\n",
              "    .dataframe thead th {\n",
              "        text-align: right;\n",
              "    }\n",
              "</style>\n",
              "<table border=\"1\" class=\"dataframe\">\n",
              "  <thead>\n",
              "    <tr style=\"text-align: right;\">\n",
              "      <th></th>\n",
              "      <th>E_a</th>\n",
              "      <th>1961</th>\n",
              "      <th>1962</th>\n",
              "      <th>1963</th>\n",
              "      <th>1964</th>\n",
              "      <th>1965</th>\n",
              "      <th>1967</th>\n",
              "      <th>1968</th>\n",
              "      <th>1969</th>\n",
              "      <th>1970</th>\n",
              "      <th>...</th>\n",
              "      <th>2007</th>\n",
              "      <th>2009</th>\n",
              "      <th>2010</th>\n",
              "      <th>2011</th>\n",
              "      <th>2012</th>\n",
              "      <th>2013</th>\n",
              "      <th>2014</th>\n",
              "      <th>2015</th>\n",
              "      <th>2016</th>\n",
              "      <th>2017</th>\n",
              "    </tr>\n",
              "  </thead>\n",
              "  <tbody>\n",
              "    <tr>\n",
              "      <th>0</th>\n",
              "      <td>5.0</td>\n",
              "      <td>48.283924</td>\n",
              "      <td>47.252821</td>\n",
              "      <td>49.082339</td>\n",
              "      <td>48.639358</td>\n",
              "      <td>50.271585</td>\n",
              "      <td>41.749414</td>\n",
              "      <td>42.578531</td>\n",
              "      <td>48.910228</td>\n",
              "      <td>53.981404</td>\n",
              "      <td>...</td>\n",
              "      <td>24.069799</td>\n",
              "      <td>28.729006</td>\n",
              "      <td>32.521304</td>\n",
              "      <td>41.626400</td>\n",
              "      <td>46.219428</td>\n",
              "      <td>24.738842</td>\n",
              "      <td>35.301052</td>\n",
              "      <td>34.472568</td>\n",
              "      <td>31.622190</td>\n",
              "      <td>33.557487</td>\n",
              "    </tr>\n",
              "    <tr>\n",
              "      <th>1</th>\n",
              "      <td>6.0</td>\n",
              "      <td>47.598484</td>\n",
              "      <td>46.728776</td>\n",
              "      <td>48.357396</td>\n",
              "      <td>47.843452</td>\n",
              "      <td>49.566268</td>\n",
              "      <td>41.112488</td>\n",
              "      <td>41.966284</td>\n",
              "      <td>48.125359</td>\n",
              "      <td>53.070643</td>\n",
              "      <td>...</td>\n",
              "      <td>23.889568</td>\n",
              "      <td>28.485160</td>\n",
              "      <td>32.239657</td>\n",
              "      <td>41.175181</td>\n",
              "      <td>45.693223</td>\n",
              "      <td>24.498942</td>\n",
              "      <td>34.974057</td>\n",
              "      <td>34.178163</td>\n",
              "      <td>31.356523</td>\n",
              "      <td>33.277461</td>\n",
              "    </tr>\n",
              "    <tr>\n",
              "      <th>2</th>\n",
              "      <td>7.0</td>\n",
              "      <td>46.930330</td>\n",
              "      <td>46.212815</td>\n",
              "      <td>47.650187</td>\n",
              "      <td>47.070309</td>\n",
              "      <td>48.873716</td>\n",
              "      <td>40.528383</td>\n",
              "      <td>41.374725</td>\n",
              "      <td>47.388141</td>\n",
              "      <td>52.187318</td>\n",
              "      <td>...</td>\n",
              "      <td>23.711210</td>\n",
              "      <td>28.244613</td>\n",
              "      <td>31.962477</td>\n",
              "      <td>40.731345</td>\n",
              "      <td>45.176388</td>\n",
              "      <td>24.262957</td>\n",
              "      <td>34.651181</td>\n",
              "      <td>33.887311</td>\n",
              "      <td>31.094043</td>\n",
              "      <td>33.000188</td>\n",
              "    </tr>\n",
              "    <tr>\n",
              "      <th>3</th>\n",
              "      <td>8.0</td>\n",
              "      <td>46.278717</td>\n",
              "      <td>45.704780</td>\n",
              "      <td>46.960026</td>\n",
              "      <td>46.318921</td>\n",
              "      <td>48.193649</td>\n",
              "      <td>39.984471</td>\n",
              "      <td>40.802655</td>\n",
              "      <td>46.691081</td>\n",
              "      <td>51.330111</td>\n",
              "      <td>...</td>\n",
              "      <td>23.534699</td>\n",
              "      <td>28.007303</td>\n",
              "      <td>31.689670</td>\n",
              "      <td>40.294711</td>\n",
              "      <td>44.668684</td>\n",
              "      <td>24.030805</td>\n",
              "      <td>34.332365</td>\n",
              "      <td>33.599956</td>\n",
              "      <td>30.834705</td>\n",
              "      <td>32.725640</td>\n",
              "    </tr>\n",
              "    <tr>\n",
              "      <th>4</th>\n",
              "      <td>9.0</td>\n",
              "      <td>45.642945</td>\n",
              "      <td>45.204520</td>\n",
              "      <td>46.286264</td>\n",
              "      <td>45.588337</td>\n",
              "      <td>47.525794</td>\n",
              "      <td>39.472267</td>\n",
              "      <td>40.248973</td>\n",
              "      <td>46.028291</td>\n",
              "      <td>50.497790</td>\n",
              "      <td>...</td>\n",
              "      <td>23.360010</td>\n",
              "      <td>27.773171</td>\n",
              "      <td>31.421145</td>\n",
              "      <td>39.865105</td>\n",
              "      <td>44.169878</td>\n",
              "      <td>23.802408</td>\n",
              "      <td>34.017550</td>\n",
              "      <td>33.316041</td>\n",
              "      <td>30.578462</td>\n",
              "      <td>32.453785</td>\n",
              "    </tr>\n",
              "    <tr>\n",
              "      <th>5</th>\n",
              "      <td>10.0</td>\n",
              "      <td>45.022356</td>\n",
              "      <td>44.711886</td>\n",
              "      <td>45.628286</td>\n",
              "      <td>44.877662</td>\n",
              "      <td>46.869882</td>\n",
              "      <td>38.985895</td>\n",
              "      <td>39.712660</td>\n",
              "      <td>45.395115</td>\n",
              "      <td>49.689203</td>\n",
              "      <td>...</td>\n",
              "      <td>23.187118</td>\n",
              "      <td>27.542156</td>\n",
              "      <td>31.156812</td>\n",
              "      <td>39.442358</td>\n",
              "      <td>43.679745</td>\n",
              "      <td>23.577690</td>\n",
              "      <td>33.706677</td>\n",
              "      <td>33.035512</td>\n",
              "      <td>30.325272</td>\n",
              "      <td>32.184595</td>\n",
              "    </tr>\n",
              "    <tr>\n",
              "      <th>6</th>\n",
              "      <td>11.0</td>\n",
              "      <td>44.416329</td>\n",
              "      <td>44.226732</td>\n",
              "      <td>44.985511</td>\n",
              "      <td>44.186047</td>\n",
              "      <td>46.225655</td>\n",
              "      <td>38.521153</td>\n",
              "      <td>39.192778</td>\n",
              "      <td>44.787849</td>\n",
              "      <td>48.903273</td>\n",
              "      <td>...</td>\n",
              "      <td>23.015998</td>\n",
              "      <td>27.314201</td>\n",
              "      <td>30.896584</td>\n",
              "      <td>39.026307</td>\n",
              "      <td>43.198067</td>\n",
              "      <td>23.356576</td>\n",
              "      <td>33.399689</td>\n",
              "      <td>32.758315</td>\n",
              "      <td>30.075089</td>\n",
              "      <td>31.918041</td>\n",
              "    </tr>\n",
              "    <tr>\n",
              "      <th>7</th>\n",
              "      <td>12.0</td>\n",
              "      <td>43.824281</td>\n",
              "      <td>43.748915</td>\n",
              "      <td>44.357386</td>\n",
              "      <td>43.512691</td>\n",
              "      <td>45.592858</td>\n",
              "      <td>38.074948</td>\n",
              "      <td>38.688458</td>\n",
              "      <td>44.203519</td>\n",
              "      <td>48.138991</td>\n",
              "      <td>...</td>\n",
              "      <td>22.846625</td>\n",
              "      <td>27.089250</td>\n",
              "      <td>30.640376</td>\n",
              "      <td>38.616796</td>\n",
              "      <td>42.724633</td>\n",
              "      <td>23.138994</td>\n",
              "      <td>33.096529</td>\n",
              "      <td>32.484396</td>\n",
              "      <td>29.827871</td>\n",
              "      <td>31.654093</td>\n",
              "    </tr>\n",
              "    <tr>\n",
              "      <th>8</th>\n",
              "      <td>13.0</td>\n",
              "      <td>43.245661</td>\n",
              "      <td>43.278296</td>\n",
              "      <td>43.743388</td>\n",
              "      <td>42.856837</td>\n",
              "      <td>44.971245</td>\n",
              "      <td>37.644936</td>\n",
              "      <td>38.198896</td>\n",
              "      <td>43.639723</td>\n",
              "      <td>47.395410</td>\n",
              "      <td>...</td>\n",
              "      <td>22.678977</td>\n",
              "      <td>26.867248</td>\n",
              "      <td>30.388104</td>\n",
              "      <td>38.213673</td>\n",
              "      <td>42.259239</td>\n",
              "      <td>22.924871</td>\n",
              "      <td>32.797143</td>\n",
              "      <td>32.213704</td>\n",
              "      <td>29.583575</td>\n",
              "      <td>31.392725</td>\n",
              "    </tr>\n",
              "    <tr>\n",
              "      <th>9</th>\n",
              "      <td>14.0</td>\n",
              "      <td>42.679949</td>\n",
              "      <td>42.814739</td>\n",
              "      <td>43.143020</td>\n",
              "      <td>42.217769</td>\n",
              "      <td>44.360573</td>\n",
              "      <td>37.229295</td>\n",
              "      <td>37.723348</td>\n",
              "      <td>43.094498</td>\n",
              "      <td>46.671642</td>\n",
              "      <td>...</td>\n",
              "      <td>22.513029</td>\n",
              "      <td>26.648140</td>\n",
              "      <td>30.139688</td>\n",
              "      <td>37.816789</td>\n",
              "      <td>41.801687</td>\n",
              "      <td>22.714140</td>\n",
              "      <td>32.501475</td>\n",
              "      <td>31.946189</td>\n",
              "      <td>29.342161</td>\n",
              "      <td>31.133907</td>\n",
              "    </tr>\n",
              "  </tbody>\n",
              "</table>\n",
              "<p>10 rows × 53 columns</p>\n",
              "</div>"
            ],
            "text/plain": [
              "    E_a       1961       1962       1963       1964       1965       1967  \\\n",
              "0   5.0  48.283924  47.252821  49.082339  48.639358  50.271585  41.749414   \n",
              "1   6.0  47.598484  46.728776  48.357396  47.843452  49.566268  41.112488   \n",
              "2   7.0  46.930330  46.212815  47.650187  47.070309  48.873716  40.528383   \n",
              "3   8.0  46.278717  45.704780  46.960026  46.318921  48.193649  39.984471   \n",
              "4   9.0  45.642945  45.204520  46.286264  45.588337  47.525794  39.472267   \n",
              "5  10.0  45.022356  44.711886  45.628286  44.877662  46.869882  38.985895   \n",
              "6  11.0  44.416329  44.226732  44.985511  44.186047  46.225655  38.521153   \n",
              "7  12.0  43.824281  43.748915  44.357386  43.512691  45.592858  38.074948   \n",
              "8  13.0  43.245661  43.278296  43.743388  42.856837  44.971245  37.644936   \n",
              "9  14.0  42.679949  42.814739  43.143020  42.217769  44.360573  37.229295   \n",
              "\n",
              "        1968       1969       1970    ...           2007       2009  \\\n",
              "0  42.578531  48.910228  53.981404    ...      24.069799  28.729006   \n",
              "1  41.966284  48.125359  53.070643    ...      23.889568  28.485160   \n",
              "2  41.374725  47.388141  52.187318    ...      23.711210  28.244613   \n",
              "3  40.802655  46.691081  51.330111    ...      23.534699  28.007303   \n",
              "4  40.248973  46.028291  50.497790    ...      23.360010  27.773171   \n",
              "5  39.712660  45.395115  49.689203    ...      23.187118  27.542156   \n",
              "6  39.192778  44.787849  48.903273    ...      23.015998  27.314201   \n",
              "7  38.688458  44.203519  48.138991    ...      22.846625  27.089250   \n",
              "8  38.198896  43.639723  47.395410    ...      22.678977  26.867248   \n",
              "9  37.723348  43.094498  46.671642    ...      22.513029  26.648140   \n",
              "\n",
              "        2010       2011       2012       2013       2014       2015  \\\n",
              "0  32.521304  41.626400  46.219428  24.738842  35.301052  34.472568   \n",
              "1  32.239657  41.175181  45.693223  24.498942  34.974057  34.178163   \n",
              "2  31.962477  40.731345  45.176388  24.262957  34.651181  33.887311   \n",
              "3  31.689670  40.294711  44.668684  24.030805  34.332365  33.599956   \n",
              "4  31.421145  39.865105  44.169878  23.802408  34.017550  33.316041   \n",
              "5  31.156812  39.442358  43.679745  23.577690  33.706677  33.035512   \n",
              "6  30.896584  39.026307  43.198067  23.356576  33.399689  32.758315   \n",
              "7  30.640376  38.616796  42.724633  23.138994  33.096529  32.484396   \n",
              "8  30.388104  38.213673  42.259239  22.924871  32.797143  32.213704   \n",
              "9  30.139688  37.816789  41.801687  22.714140  32.501475  31.946189   \n",
              "\n",
              "        2016       2017  \n",
              "0  31.622190  33.557487  \n",
              "1  31.356523  33.277461  \n",
              "2  31.094043  33.000188  \n",
              "3  30.834705  32.725640  \n",
              "4  30.578462  32.453785  \n",
              "5  30.325272  32.184595  \n",
              "6  30.075089  31.918041  \n",
              "7  29.827871  31.654093  \n",
              "8  29.583575  31.392725  \n",
              "9  29.342161  31.133907  \n",
              "\n",
              "[10 rows x 53 columns]"
            ]
          },
          "metadata": {
            "tags": []
          },
          "execution_count": 106
        }
      ]
    },
    {
      "metadata": {
        "id": "4sVJLKXU14wj",
        "colab_type": "code",
        "colab": {
          "base_uri": "https://localhost:8080/",
          "height": 54
        },
        "outputId": "24d1232b-d474-4e77-fbb9-602c82bb53ea"
      },
      "cell_type": "code",
      "source": [
        "print('DTS mean: ', second_problem_predictor.get_DTS_mean())"
      ],
      "execution_count": 108,
      "outputs": [
        {
          "output_type": "stream",
          "text": [
            "DTS mean:  [38.83964258368033, 39.46225786331868, 39.07949202696954, 38.02214774241493, 40.065577280835285, 34.558347880575084, 34.66994745286771, 39.632648518888466, 41.96964571701711, 33.715272038773655, 37.293560987496974, 38.83871619475124, 35.430880437895134, 30.887750347441404, 29.7507918067523, 36.769452569287274, 26.828096413268355, 37.737100345616966, 33.55767486147112, 30.505243763888252, 36.813621000745265, 41.69552238196641, 39.157783202271766, 27.826829616348036, 36.49978226105449, 23.445785763508663, 27.659360356739118, 35.407518103309805, 29.368748502551277, 29.537657381863394, 36.95828831420806, 35.61631084181659, 25.34707006570919, 32.550499779999186, 29.63352117915836, 34.12316941028584, 30.405439704413354, 18.130633775462414, 33.27256633550142, 24.39063649996117, 36.21585106479861, 29.568930494988347, 21.249141467126666, 25.028090865467732, 28.345836415002253, 34.951958408234894, 38.54434360839413, 21.203140476379467, 30.306520874766722, 29.942378720052247, 27.537159951572274, 29.157495867246595]\n"
          ],
          "name": "stdout"
        }
      ]
    },
    {
      "metadata": {
        "id": "PgGzqDyVdOjG",
        "colab_type": "code",
        "colab": {}
      },
      "cell_type": "code",
      "source": [
        "df_DTS_j = second_problem_predictor.get_df_DTS_j()\n",
        "x, y, z = [], [], []\n",
        "for e_a in E_a:\n",
        "    for year in train_year:\n",
        "        x.append(e_a)\n",
        "        y.append(year)\n",
        "        row = df_DTS_j[df_DTS_j['E_a'] == e_a][0:1]\n",
        "        z.append(float(row[year]))"
      ],
      "execution_count": 0,
      "outputs": []
    },
    {
      "metadata": {
        "id": "GwhI0UondOjM",
        "colab_type": "code",
        "colab": {
          "base_uri": "https://localhost:8080/",
          "height": 330
        },
        "outputId": "8d318a1e-b424-4f5e-84e2-78d90c375301"
      },
      "cell_type": "code",
      "source": [
        "fig = plt.figure()\n",
        "ax = fig.gca(projection='3d')\n",
        "ax.plot_trisurf(x, y, z, cmap=plt.cm.viridis, linewidth=0.05)\n",
        "surf=ax.plot_trisurf(x, y, z, cmap=plt.cm.viridis, linewidth=0.2)\n",
        "\n",
        "fig.colorbar( surf, shrink=0.5, aspect=5)\n",
        "ax.view_init(30, 45)\n",
        "\n",
        "ax.set_xlabel('Ea')\n",
        "ax.set_ylabel('Year')\n",
        "ax.set_zlabel('DTS')\n",
        "\n",
        "plt.show()"
      ],
      "execution_count": 110,
      "outputs": [
        {
          "output_type": "display_data",
          "data": {
            "image/png": "[encoded data removed]",
            "text/plain": [
              "<Figure size 576x396 with 2 Axes>"
            ]
          },
          "metadata": {
            "tags": []
          }
        }
      ]
    },
    {
      "metadata": {
        "id": "_PjdgJ58dOjZ",
        "colab_type": "text"
      },
      "cell_type": "markdown",
      "source": [
        "### Problem 2-3: (11pts)\n",
        "Using the same $E_{a}$ values and calculated $DTS_{mean}$ from 2-2, predict the bloom date $BD_{j}$ for each of the training years. Find the mean squared error relative to the actual $BD$ and plot it against $E_{a}$. Find the optimal $E_{a}^{*}$ that minimizes that error on the training data."
      ]
    },
    {
      "metadata": {
        "id": "ZhXAvggxdOja",
        "colab_type": "code",
        "colab": {
          "base_uri": "https://localhost:8080/",
          "height": 487
        },
        "outputId": "4cd6a2a4-5fbc-4e39-f5df-971e8bde923c"
      },
      "cell_type": "code",
      "source": [
        "second_problem_predictor = predictor_linear_reg_model(df_tokyo)\n",
        "second_problem_predictor.fit(train_year)"
      ],
      "execution_count": 149,
      "outputs": [
        {
          "output_type": "stream",
          "text": [
            "/usr/local/lib/python3.6/dist-packages/numpy/core/fromnumeric.py:2957: RuntimeWarning: Mean of empty slice.\n",
            "  out=out, **kwargs)\n",
            "/usr/local/lib/python3.6/dist-packages/numpy/core/_methods.py:80: RuntimeWarning: invalid value encountered in double_scalars\n",
            "  ret = ret.dtype.type(ret / rcount)\n"
          ],
          "name": "stderr"
        },
        {
          "output_type": "error",
          "ename": "TypeError",
          "evalue": "ignored",
          "traceback": [
            "\u001b[0;31m---------------------------------------------------------------------------\u001b[0m",
            "\u001b[0;31mTypeError\u001b[0m                                 Traceback (most recent call last)",
            "\u001b[0;32m<ipython-input-149-cf7d2fc889db>\u001b[0m in \u001b[0;36m<module>\u001b[0;34m()\u001b[0m\n\u001b[1;32m      1\u001b[0m \u001b[0msecond_problem_predictor\u001b[0m \u001b[0;34m=\u001b[0m \u001b[0mpredictor_linear_reg_model\u001b[0m\u001b[0;34m(\u001b[0m\u001b[0mdf_tokyo\u001b[0m\u001b[0;34m)\u001b[0m\u001b[0;34m\u001b[0m\u001b[0;34m\u001b[0m\u001b[0m\n\u001b[0;32m----> 2\u001b[0;31m \u001b[0msecond_problem_predictor\u001b[0m\u001b[0;34m.\u001b[0m\u001b[0mfit\u001b[0m\u001b[0;34m(\u001b[0m\u001b[0mtrain_year\u001b[0m\u001b[0;34m)\u001b[0m\u001b[0;34m\u001b[0m\u001b[0;34m\u001b[0m\u001b[0m\n\u001b[0m",
            "\u001b[0;32m<ipython-input-148-28d43fa6cb59>\u001b[0m in \u001b[0;36mfit\u001b[0;34m(self, training_years)\u001b[0m\n\u001b[1;32m     57\u001b[0m \u001b[0;34m\u001b[0m\u001b[0m\n\u001b[1;32m     58\u001b[0m     \u001b[0mself\u001b[0m\u001b[0;34m.\u001b[0m\u001b[0mDTS_mean\u001b[0m \u001b[0;34m=\u001b[0m \u001b[0mlist\u001b[0m\u001b[0;34m(\u001b[0m\u001b[0mdf_DTS_j\u001b[0m\u001b[0;34m.\u001b[0m\u001b[0miloc\u001b[0m\u001b[0;34m[\u001b[0m\u001b[0;34m:\u001b[0m\u001b[0;34m,\u001b[0m\u001b[0;36m1\u001b[0m\u001b[0;34m:\u001b[0m\u001b[0;34m]\u001b[0m\u001b[0;34m.\u001b[0m\u001b[0mmean\u001b[0m\u001b[0;34m(\u001b[0m\u001b[0maxis\u001b[0m\u001b[0;34m=\u001b[0m\u001b[0;34m'rows'\u001b[0m\u001b[0;34m)\u001b[0m\u001b[0;34m)\u001b[0m\u001b[0;34m\u001b[0m\u001b[0;34m\u001b[0m\u001b[0m\n\u001b[0;32m---> 59\u001b[0;31m     \u001b[0mself\u001b[0m\u001b[0;34m.\u001b[0m\u001b[0moptimize_Ea\u001b[0m\u001b[0;34m(\u001b[0m\u001b[0;34m)\u001b[0m\u001b[0;34m\u001b[0m\u001b[0;34m\u001b[0m\u001b[0m\n\u001b[0m\u001b[1;32m     60\u001b[0m \u001b[0;34m\u001b[0m\u001b[0m\n\u001b[1;32m     61\u001b[0m   \u001b[0;32mdef\u001b[0m \u001b[0moptimize_Ea\u001b[0m\u001b[0;34m(\u001b[0m\u001b[0mself\u001b[0m\u001b[0;34m)\u001b[0m\u001b[0;34m:\u001b[0m\u001b[0;34m\u001b[0m\u001b[0;34m\u001b[0m\u001b[0m\n",
            "\u001b[0;32m<ipython-input-148-28d43fa6cb59>\u001b[0m in \u001b[0;36moptimize_Ea\u001b[0;34m(self)\u001b[0m\n\u001b[1;32m     63\u001b[0m       \u001b[0mself\u001b[0m\u001b[0;34m.\u001b[0m\u001b[0mE_a_MSE\u001b[0m\u001b[0;34m[\u001b[0m\u001b[0me_a\u001b[0m\u001b[0;34m]\u001b[0m \u001b[0;34m=\u001b[0m \u001b[0mself\u001b[0m\u001b[0;34m.\u001b[0m\u001b[0mcompute_MSE\u001b[0m\u001b[0;34m(\u001b[0m\u001b[0me_a\u001b[0m\u001b[0;34m)\u001b[0m\u001b[0;34m\u001b[0m\u001b[0;34m\u001b[0m\u001b[0m\n\u001b[1;32m     64\u001b[0m     \u001b[0mmin\u001b[0m \u001b[0;34m=\u001b[0m \u001b[0;36m0\u001b[0m\u001b[0;34m\u001b[0m\u001b[0;34m\u001b[0m\u001b[0m\n\u001b[0;32m---> 65\u001b[0;31m     \u001b[0;32mfor\u001b[0m \u001b[0mkey\u001b[0m\u001b[0;34m,\u001b[0m \u001b[0mvalue\u001b[0m \u001b[0;32min\u001b[0m \u001b[0mself\u001b[0m\u001b[0;34m.\u001b[0m\u001b[0mE_a_MSE\u001b[0m\u001b[0;34m(\u001b[0m\u001b[0;34m)\u001b[0m\u001b[0;34m:\u001b[0m\u001b[0;34m\u001b[0m\u001b[0;34m\u001b[0m\u001b[0m\n\u001b[0m\u001b[1;32m     66\u001b[0m       \u001b[0;32mif\u001b[0m \u001b[0mmin\u001b[0m \u001b[0;34m==\u001b[0m \u001b[0;36m0\u001b[0m\u001b[0;34m:\u001b[0m\u001b[0;34m\u001b[0m\u001b[0;34m\u001b[0m\u001b[0m\n\u001b[1;32m     67\u001b[0m         \u001b[0mself\u001b[0m\u001b[0;34m.\u001b[0m\u001b[0mbest_Ea\u001b[0m \u001b[0;34m=\u001b[0m \u001b[0mkey\u001b[0m\u001b[0;34m\u001b[0m\u001b[0;34m\u001b[0m\u001b[0m\n",
            "\u001b[0;31mTypeError\u001b[0m: 'dict' object is not callable"
          ]
        }
      ]
    },
    {
      "metadata": {
        "id": "mYrxtXIwdOjd",
        "colab_type": "code",
        "colab": {}
      },
      "cell_type": "code",
      "source": [
        "\n",
        "# DTS_Ea = list(DTS_Ea)"
      ],
      "execution_count": 0,
      "outputs": []
    },
    {
      "metadata": {
        "id": "Km2SgfIE9vmo",
        "colab_type": "code",
        "colab": {
          "base_uri": "https://localhost:8080/",
          "height": 204
        },
        "outputId": "de3e11a3-572e-4413-9f6f-71756aa8b3ef"
      },
      "cell_type": "code",
      "source": [
        ""
      ],
      "execution_count": 144,
      "outputs": [
        {
          "output_type": "execute_result",
          "data": {
            "text/plain": [
              "array([[ 5.        , 48.28392429, 47.25282111, 49.08233894, 48.63935751,\n",
              "        50.27158537, 41.74941405, 42.57853059, 48.91022805, 53.98140403,\n",
              "        40.30465196, 43.79038705, 48.87705525, 44.56268795, 35.45609892,\n",
              "        37.32517336, 45.44115729, 30.70364577, 46.00328657, 40.85582536,\n",
              "        35.33661596, 43.62501496, 57.54298958, 49.54539129, 33.81001647,\n",
              "        44.86142777, 26.85281349, 30.20437433, 41.05938721, 34.28649332,\n",
              "        34.38623857, 42.96423479, 42.76212142, 28.7181389 , 37.3911043 ,\n",
              "        33.65480375, 40.66596412, 35.29567519, 19.55686115, 39.77062635,\n",
              "        27.10992551, 42.67392862, 33.65017622, 24.06979942, 28.72900581,\n",
              "        32.521304  , 41.6263995 , 46.21942784, 24.73884191, 35.30105226,\n",
              "        34.47256835, 31.62218957, 33.55748676]])"
            ]
          },
          "metadata": {
            "tags": []
          },
          "execution_count": 144
        }
      ]
    },
    {
      "metadata": {
        "id": "wV1S6xn0dOjf",
        "colab_type": "text"
      },
      "cell_type": "markdown",
      "source": [
        "### Problem 2-4: (4pts)\n",
        "\n",
        "Using the $D_j$ dates from problem 2-1, the average $DTS_{mean}$ from 2-2, and the best-fit $E_{a}^{*}$ from 2-3, predict the bloom-dates $BD_j$ for the years in the test set. Determine the error between your predicted $BD_j$ values and the actual values, and evaluate this model using the coefficient of determination ($R^2$ score)."
      ]
    },
    {
      "metadata": {
        "collapsed": true,
        "id": "5-X2EF0bdOjh",
        "colab_type": "code",
        "colab": {}
      },
      "cell_type": "code",
      "source": [
        ""
      ],
      "execution_count": 0,
      "outputs": []
    },
    {
      "metadata": {
        "id": "pqeh6W7ndOjk",
        "colab_type": "text"
      },
      "cell_type": "markdown",
      "source": [
        "### Problem 2-5: (extra 10pts)\n",
        "Discuss any improvements you could make to the model outlined above. If you have a suggestion in particular, describe it. How much do you think the accuracy would be improved?"
      ]
    },
    {
      "metadata": {
        "id": "uy3LrfZcdOjl",
        "colab_type": "code",
        "colab": {}
      },
      "cell_type": "code",
      "source": [
        ""
      ],
      "execution_count": 0,
      "outputs": []
    },
    {
      "metadata": {
        "id": "bhjBIBhYdOjn",
        "colab_type": "text"
      },
      "cell_type": "markdown",
      "source": [
        "***\n",
        "## 3. Predicting Bloom-date via Neural Network (30pts total)"
      ]
    },
    {
      "metadata": {
        "id": "IzAFBZcRdOjo",
        "colab_type": "text"
      },
      "cell_type": "markdown",
      "source": [
        "### Problem 3-1: (20pts)\n",
        "\n",
        "Build a neural network and train it on the data from the training years. Use this model to predict the bloom-dates for each year in the test set. Evaluate the error between predicted dates and actual dates using the coefficient of determination (R2 score). Only use the weather data given in `tokyo.csv` and the sakura data acquired in problem 0-1.</br>\n",
        "You may use whichever framework or strategy that you like to construct the network. "
      ]
    },
    {
      "metadata": {
        "collapsed": true,
        "id": "g2P85gkwdOjo",
        "colab_type": "code",
        "colab": {}
      },
      "cell_type": "code",
      "source": [
        ""
      ],
      "execution_count": 0,
      "outputs": []
    },
    {
      "metadata": {
        "id": "EI0ChGZGdOjr",
        "colab_type": "text"
      },
      "cell_type": "markdown",
      "source": [
        "### Problem 3-2: (10pts)\n",
        "Compare the performance (via $R^2$ score) of the 3 implementations above: the 600 Degree Rule, the DTS method, and the neural network approach. For all methods, and each test year, plot the predicted date vs. the actual date. Discuss the accuracy and differences of these 3 models."
      ]
    },
    {
      "metadata": {
        "collapsed": true,
        "id": "1RjMLktZdOjr",
        "colab_type": "code",
        "colab": {}
      },
      "cell_type": "code",
      "source": [
        ""
      ],
      "execution_count": 0,
      "outputs": []
    },
    {
      "metadata": {
        "id": "KLxU9U1YdOjt",
        "colab_type": "text"
      },
      "cell_type": "markdown",
      "source": [
        "***\n",
        "## 4. Trends of the Sakura blooming phenomenon (20pts total)"
      ]
    },
    {
      "metadata": {
        "id": "PAfVjqqtdOju",
        "colab_type": "text"
      },
      "cell_type": "markdown",
      "source": [
        "### Problem 4-1: (20pts)\n",
        "Based on the data from the past 60 years, investigate and discuss trends in the sakura hibernation ($D_{j}$) and blooming ($BD_{j}$) phenomena in Tokyo."
      ]
    },
    {
      "metadata": {
        "collapsed": true,
        "id": "ToHh6Kl7dOju",
        "colab_type": "code",
        "colab": {}
      },
      "cell_type": "code",
      "source": [
        ""
      ],
      "execution_count": 0,
      "outputs": []
    }
  ]
}