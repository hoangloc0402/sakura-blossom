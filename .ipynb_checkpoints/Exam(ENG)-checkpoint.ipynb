{
 "cells": [
  {
   "cell_type": "markdown",
   "metadata": {},
   "source": [
    "# Entrance Challenge: When Will the Sakura Bloom?"
   ]
  },
  {
   "cell_type": "markdown",
   "metadata": {},
   "source": [
    "***\n",
    "\n",
    "**Name：Hoang Loc NGUYEN**\n",
    "\n",
    "**Email: hoangloc0402@gmail.com**\n",
    "\n",
    "**Submission Date：**\n",
    "\n",
    "***"
   ]
  },
  {
   "cell_type": "code",
   "execution_count": 1,
   "metadata": {},
   "outputs": [],
   "source": [
    "import urllib\n",
    "import re\n",
    "import pandas as pd\n",
    "import numpy as np\n",
    "import matplotlib.pyplot as plt\n",
    "from pprint import pprint\n",
    "from sklearn.metrics import r2_score as sklearn_r2_score\n",
    "from copy import deepcopy as clone"
   ]
  },
  {
   "cell_type": "code",
   "execution_count": 111,
   "metadata": {},
   "outputs": [],
   "source": []
  },
  {
   "cell_type": "markdown",
   "metadata": {},
   "source": [
    "# 0. Basics of the Sakura Bloom-cycle (5pts total)"
   ]
  },
  {
   "cell_type": "markdown",
   "metadata": {},
   "source": [
    "In a year, sakura trees basically go through 4 phases: energy production, hibernation, growth, and of course flowering. These phases\n",
    "roughly follow the seasons, but not exactly. <br>\n",
    "\n",
    "   Production phase： Initial development of the buds（Summer-Fall） <br>\n",
    "   Hibernation phase： Bud growth stops while the tree goes into hibernation（Late Fall-Winter） <br>\n",
    "   Growth phase： Buds once again continue to grow when the tree comes out of its winter hibernation（Late Winter-Spring） <br>\n",
    "   Flowering phase： The buds finally bloom in spring (as climate conditions allow), once they have been able to fully develop.（Spring） <br>\n",
    "    \n",
    "Each year, near the end of winter but before the trees finally bloom, the hibernation period ends. The sakura that rested through the winter once gain become metabolically active, and the buds continue to grow (though we may not immediately notice when this happens.) However, the cycle is not simply clockwork- for example, in places where the temperature is above 20℃ year-round, the trees are unable to hibernate sufficiently, and thus cannot blossom.\n",
    "    \n",
    "In this challenge, we have outlined the basic mechanism by which the sakura reach their eventual bloom-date. We consider building a bloom-date prediction model for the case of sakura in Tokyo, with the data split as follows: <br>\n",
    "    \n",
    "Test years： 1966, 1971, 1985, 1994, and 2008 <br>\n",
    "Training years: 1961 to 2017 (Excluding the test years) <br>\n",
    "    \n",
    "You should fit the model to the data from the training years, then use the model to predict the bloom-date for each of the test years. The 3 models to be applied to the data are described below.\n",
    "    \n"
   ]
  },
  {
   "cell_type": "markdown",
   "metadata": {},
   "source": [
    "### Problem 0-1: (5pts)\n",
    "Acquire data of sakura blooming date (桜の開花日) for Tokyo from 1961 to 2017 using the Japanese Meteorological Agency website (気象庁)."
   ]
  },
  {
   "cell_type": "code",
   "execution_count": 2,
   "metadata": {},
   "outputs": [
    {
     "name": "stdout",
     "output_type": "stream",
     "text": [
      "['https://www.data.jma.go.jp/sakura/data/sakura003_01.html',\n",
      " 'https://www.data.jma.go.jp/sakura/data/sakura003_02.html',\n",
      " 'https://www.data.jma.go.jp/sakura/data/sakura003_03.html',\n",
      " 'https://www.data.jma.go.jp/sakura/data/sakura003_04.html',\n",
      " 'https://www.data.jma.go.jp/sakura/data/sakura003_05.html',\n",
      " 'https://www.data.jma.go.jp/sakura/data/sakura003_06.html']\n"
     ]
    }
   ],
   "source": [
    "# Prepare urls for getting sakura blooming date data from JMA\n",
    "url_prefix = \"https://www.data.jma.go.jp/sakura/data/sakura003_0\"\n",
    "url_postfix = \".html\"\n",
    "urls = [url_prefix + str(x) + url_postfix for x in range(1,7)]\n",
    "pprint(urls)"
   ]
  },
  {
   "cell_type": "code",
   "execution_count": 3,
   "metadata": {},
   "outputs": [],
   "source": [
    "# Function for getting data from one url of JMA website\n",
    "re.DOTALL = False\n",
    "def parse_url(url_input):\n",
    "    fp = urllib.request.urlopen(url_input)\n",
    "    raw_html_str = fp.read().decode(\"utf8\")\n",
    "    fp.close()\n",
    "    tokyo_line = re.findall(\"東京 .*\\n\",  raw_html_str)[0]\n",
    "    tokyo_num = re.findall(\"\\d.*\\d\", tokyo_line)[0]\n",
    "    tokyo_num = tokyo_num.split()[:-2]\n",
    "    tokyo_num = [int(num) for num in tokyo_num]\n",
    "    month = tokyo_num[0::2]\n",
    "    date = tokyo_num[1::2]\n",
    "    return month, date"
   ]
  },
  {
   "cell_type": "code",
   "execution_count": 5,
   "metadata": {
    "inputHidden": false,
    "outputHidden": false
   },
   "outputs": [],
   "source": [
    "# Getting sakura blooming date from the year of 1961 to 2017\n",
    "bloom_year = range(1961,2018)\n",
    "bloom_month = list()\n",
    "bloom_date = list()\n",
    "for url in urls:\n",
    "    mon, dat = parse_url(url)\n",
    "    bloom_month+=mon\n",
    "    bloom_date+=dat\n",
    "# Remove 2018\n",
    "bloom_month = bloom_month[:-1]\n",
    "bloom_date = bloom_date[:-1]\n",
    "tokyo_bloom_date_data = list(zip(bloom_year, bloom_month, bloom_date))"
   ]
  },
  {
   "cell_type": "code",
   "execution_count": 6,
   "metadata": {},
   "outputs": [
    {
     "name": "stdout",
     "output_type": "stream",
     "text": [
      "Blooming data acquired from JMA website: \n"
     ]
    },
    {
     "data": {
      "text/html": [
       "<div>\n",
       "<style scoped>\n",
       "    .dataframe tbody tr th:only-of-type {\n",
       "        vertical-align: middle;\n",
       "    }\n",
       "\n",
       "    .dataframe tbody tr th {\n",
       "        vertical-align: top;\n",
       "    }\n",
       "\n",
       "    .dataframe thead th {\n",
       "        text-align: right;\n",
       "    }\n",
       "</style>\n",
       "<table border=\"1\" class=\"dataframe\">\n",
       "  <thead>\n",
       "    <tr style=\"text-align: right;\">\n",
       "      <th></th>\n",
       "      <th>year</th>\n",
       "      <th>month</th>\n",
       "      <th>date</th>\n",
       "    </tr>\n",
       "  </thead>\n",
       "  <tbody>\n",
       "    <tr>\n",
       "      <th>0</th>\n",
       "      <td>1961</td>\n",
       "      <td>4</td>\n",
       "      <td>1</td>\n",
       "    </tr>\n",
       "    <tr>\n",
       "      <th>1</th>\n",
       "      <td>1962</td>\n",
       "      <td>4</td>\n",
       "      <td>1</td>\n",
       "    </tr>\n",
       "    <tr>\n",
       "      <th>2</th>\n",
       "      <td>1963</td>\n",
       "      <td>4</td>\n",
       "      <td>1</td>\n",
       "    </tr>\n",
       "    <tr>\n",
       "      <th>3</th>\n",
       "      <td>1964</td>\n",
       "      <td>4</td>\n",
       "      <td>2</td>\n",
       "    </tr>\n",
       "    <tr>\n",
       "      <th>4</th>\n",
       "      <td>1965</td>\n",
       "      <td>4</td>\n",
       "      <td>2</td>\n",
       "    </tr>\n",
       "  </tbody>\n",
       "</table>\n",
       "</div>"
      ],
      "text/plain": [
       "   year  month  date\n",
       "0  1961      4     1\n",
       "1  1962      4     1\n",
       "2  1963      4     1\n",
       "3  1964      4     2\n",
       "4  1965      4     2"
      ]
     },
     "execution_count": 6,
     "metadata": {},
     "output_type": "execute_result"
    }
   ],
   "source": [
    "#Create Dataframe from sakura blooming date data\n",
    "print('Blooming data acquired from JMA website: ')\n",
    "pd.DataFrame.from_dict({'year':bloom_year, 'month': bloom_month, 'date': bloom_date}).iloc[0:5,]"
   ]
  },
  {
   "cell_type": "code",
   "execution_count": 51,
   "metadata": {},
   "outputs": [
    {
     "data": {
      "text/html": [
       "<div>\n",
       "<style scoped>\n",
       "    .dataframe tbody tr th:only-of-type {\n",
       "        vertical-align: middle;\n",
       "    }\n",
       "\n",
       "    .dataframe tbody tr th {\n",
       "        vertical-align: top;\n",
       "    }\n",
       "\n",
       "    .dataframe thead th {\n",
       "        text-align: right;\n",
       "    }\n",
       "</style>\n",
       "<table border=\"1\" class=\"dataframe\">\n",
       "  <thead>\n",
       "    <tr style=\"text-align: right;\">\n",
       "      <th></th>\n",
       "      <th>Unnamed: 0</th>\n",
       "      <th>year</th>\n",
       "      <th>month</th>\n",
       "      <th>day</th>\n",
       "      <th>現地平均気圧</th>\n",
       "      <th>海面平均気圧</th>\n",
       "      <th>合計降水量</th>\n",
       "      <th>1時間最大降水量</th>\n",
       "      <th>10分間最大降水量</th>\n",
       "      <th>平均気温</th>\n",
       "      <th>最高気温</th>\n",
       "      <th>最低気温</th>\n",
       "      <th>平均湿度</th>\n",
       "      <th>最低湿度</th>\n",
       "      <th>日照時間</th>\n",
       "    </tr>\n",
       "  </thead>\n",
       "  <tbody>\n",
       "    <tr>\n",
       "      <th>0</th>\n",
       "      <td>0</td>\n",
       "      <td>1961</td>\n",
       "      <td>1</td>\n",
       "      <td>1</td>\n",
       "      <td>1011.7</td>\n",
       "      <td>1012.4</td>\n",
       "      <td>0.0</td>\n",
       "      <td>0.0</td>\n",
       "      <td>0.0</td>\n",
       "      <td>2.1</td>\n",
       "      <td>7.9</td>\n",
       "      <td>-3.9</td>\n",
       "      <td>41</td>\n",
       "      <td>15</td>\n",
       "      <td>8.6</td>\n",
       "    </tr>\n",
       "    <tr>\n",
       "      <th>1</th>\n",
       "      <td>1</td>\n",
       "      <td>1961</td>\n",
       "      <td>1</td>\n",
       "      <td>2</td>\n",
       "      <td>1020.2</td>\n",
       "      <td>1021.0</td>\n",
       "      <td>0.0</td>\n",
       "      <td>0.0</td>\n",
       "      <td>0.0</td>\n",
       "      <td>1.5</td>\n",
       "      <td>9.2</td>\n",
       "      <td>-3.3</td>\n",
       "      <td>51</td>\n",
       "      <td>26</td>\n",
       "      <td>8.7</td>\n",
       "    </tr>\n",
       "    <tr>\n",
       "      <th>2</th>\n",
       "      <td>2</td>\n",
       "      <td>1961</td>\n",
       "      <td>1</td>\n",
       "      <td>3</td>\n",
       "      <td>1021.3</td>\n",
       "      <td>1022.1</td>\n",
       "      <td>0.1</td>\n",
       "      <td>0.8</td>\n",
       "      <td>0.0</td>\n",
       "      <td>2.5</td>\n",
       "      <td>7.3</td>\n",
       "      <td>-2.4</td>\n",
       "      <td>58</td>\n",
       "      <td>37</td>\n",
       "      <td>5.4</td>\n",
       "    </tr>\n",
       "    <tr>\n",
       "      <th>3</th>\n",
       "      <td>3</td>\n",
       "      <td>1961</td>\n",
       "      <td>1</td>\n",
       "      <td>4</td>\n",
       "      <td>1004.6</td>\n",
       "      <td>1005.3</td>\n",
       "      <td>20.2</td>\n",
       "      <td>13.9</td>\n",
       "      <td>3.2</td>\n",
       "      <td>4.7</td>\n",
       "      <td>11.5</td>\n",
       "      <td>0.6</td>\n",
       "      <td>60</td>\n",
       "      <td>38</td>\n",
       "      <td>1.0</td>\n",
       "    </tr>\n",
       "    <tr>\n",
       "      <th>4</th>\n",
       "      <td>4</td>\n",
       "      <td>1961</td>\n",
       "      <td>1</td>\n",
       "      <td>5</td>\n",
       "      <td>1016.3</td>\n",
       "      <td>1017.0</td>\n",
       "      <td>0.0</td>\n",
       "      <td>0.0</td>\n",
       "      <td>0.0</td>\n",
       "      <td>3.8</td>\n",
       "      <td>7.7</td>\n",
       "      <td>1.4</td>\n",
       "      <td>33</td>\n",
       "      <td>19</td>\n",
       "      <td>8.3</td>\n",
       "    </tr>\n",
       "  </tbody>\n",
       "</table>\n",
       "</div>"
      ],
      "text/plain": [
       "   Unnamed: 0  year  month  day  現地平均気圧  海面平均気圧  合計降水量  1時間最大降水量  10分間最大降水量  \\\n",
       "0           0  1961      1    1  1011.7  1012.4    0.0       0.0        0.0   \n",
       "1           1  1961      1    2  1020.2  1021.0    0.0       0.0        0.0   \n",
       "2           2  1961      1    3  1021.3  1022.1    0.1       0.8        0.0   \n",
       "3           3  1961      1    4  1004.6  1005.3   20.2      13.9        3.2   \n",
       "4           4  1961      1    5  1016.3  1017.0    0.0       0.0        0.0   \n",
       "\n",
       "   平均気温  最高気温  最低気温  平均湿度  最低湿度  日照時間  \n",
       "0   2.1   7.9  -3.9    41    15   8.6  \n",
       "1   1.5   9.2  -3.3    51    26   8.7  \n",
       "2   2.5   7.3  -2.4    58    37   5.4  \n",
       "3   4.7  11.5   0.6    60    38   1.0  \n",
       "4   3.8   7.7   1.4    33    19   8.3  "
      ]
     },
     "execution_count": 51,
     "metadata": {},
     "output_type": "execute_result"
    }
   ],
   "source": [
    "# Read data of Tokyo's weather condition from file\n",
    "df_tokyo_weather = pd.read_csv(\"tokyo.csv\", sep=',')\n",
    "df_tokyo_weather.iloc[0:5,]"
   ]
  },
  {
   "cell_type": "code",
   "execution_count": 52,
   "metadata": {},
   "outputs": [
    {
     "data": {
      "text/html": [
       "<div>\n",
       "<style scoped>\n",
       "    .dataframe tbody tr th:only-of-type {\n",
       "        vertical-align: middle;\n",
       "    }\n",
       "\n",
       "    .dataframe tbody tr th {\n",
       "        vertical-align: top;\n",
       "    }\n",
       "\n",
       "    .dataframe thead th {\n",
       "        text-align: right;\n",
       "    }\n",
       "</style>\n",
       "<table border=\"1\" class=\"dataframe\">\n",
       "  <thead>\n",
       "    <tr style=\"text-align: right;\">\n",
       "      <th></th>\n",
       "      <th>index</th>\n",
       "      <th>year</th>\n",
       "      <th>month</th>\n",
       "      <th>date</th>\n",
       "      <th>Local average pressure</th>\n",
       "      <th>Sea level average pressure</th>\n",
       "      <th>Total precipitation</th>\n",
       "      <th>1 hour maximum precipitation</th>\n",
       "      <th>10 minutes Maximum precipitation</th>\n",
       "      <th>Average temperature</th>\n",
       "      <th>Highest temperature</th>\n",
       "      <th>Lowest Temperature</th>\n",
       "      <th>Average humidity</th>\n",
       "      <th>Minimum humidity</th>\n",
       "      <th>Sunshine hours</th>\n",
       "    </tr>\n",
       "  </thead>\n",
       "  <tbody>\n",
       "    <tr>\n",
       "      <th>0</th>\n",
       "      <td>0</td>\n",
       "      <td>1961</td>\n",
       "      <td>1</td>\n",
       "      <td>1</td>\n",
       "      <td>1011.7</td>\n",
       "      <td>1012.4</td>\n",
       "      <td>0.0</td>\n",
       "      <td>0.0</td>\n",
       "      <td>0.0</td>\n",
       "      <td>2.1</td>\n",
       "      <td>7.9</td>\n",
       "      <td>-3.9</td>\n",
       "      <td>41</td>\n",
       "      <td>15</td>\n",
       "      <td>8.6</td>\n",
       "    </tr>\n",
       "    <tr>\n",
       "      <th>1</th>\n",
       "      <td>1</td>\n",
       "      <td>1961</td>\n",
       "      <td>1</td>\n",
       "      <td>2</td>\n",
       "      <td>1020.2</td>\n",
       "      <td>1021.0</td>\n",
       "      <td>0.0</td>\n",
       "      <td>0.0</td>\n",
       "      <td>0.0</td>\n",
       "      <td>1.5</td>\n",
       "      <td>9.2</td>\n",
       "      <td>-3.3</td>\n",
       "      <td>51</td>\n",
       "      <td>26</td>\n",
       "      <td>8.7</td>\n",
       "    </tr>\n",
       "    <tr>\n",
       "      <th>2</th>\n",
       "      <td>2</td>\n",
       "      <td>1961</td>\n",
       "      <td>1</td>\n",
       "      <td>3</td>\n",
       "      <td>1021.3</td>\n",
       "      <td>1022.1</td>\n",
       "      <td>0.1</td>\n",
       "      <td>0.8</td>\n",
       "      <td>0.0</td>\n",
       "      <td>2.5</td>\n",
       "      <td>7.3</td>\n",
       "      <td>-2.4</td>\n",
       "      <td>58</td>\n",
       "      <td>37</td>\n",
       "      <td>5.4</td>\n",
       "    </tr>\n",
       "    <tr>\n",
       "      <th>3</th>\n",
       "      <td>3</td>\n",
       "      <td>1961</td>\n",
       "      <td>1</td>\n",
       "      <td>4</td>\n",
       "      <td>1004.6</td>\n",
       "      <td>1005.3</td>\n",
       "      <td>20.2</td>\n",
       "      <td>13.9</td>\n",
       "      <td>3.2</td>\n",
       "      <td>4.7</td>\n",
       "      <td>11.5</td>\n",
       "      <td>0.6</td>\n",
       "      <td>60</td>\n",
       "      <td>38</td>\n",
       "      <td>1.0</td>\n",
       "    </tr>\n",
       "    <tr>\n",
       "      <th>4</th>\n",
       "      <td>4</td>\n",
       "      <td>1961</td>\n",
       "      <td>1</td>\n",
       "      <td>5</td>\n",
       "      <td>1016.3</td>\n",
       "      <td>1017.0</td>\n",
       "      <td>0.0</td>\n",
       "      <td>0.0</td>\n",
       "      <td>0.0</td>\n",
       "      <td>3.8</td>\n",
       "      <td>7.7</td>\n",
       "      <td>1.4</td>\n",
       "      <td>33</td>\n",
       "      <td>19</td>\n",
       "      <td>8.3</td>\n",
       "    </tr>\n",
       "  </tbody>\n",
       "</table>\n",
       "</div>"
      ],
      "text/plain": [
       "   index  year  month  date  Local average pressure  \\\n",
       "0      0  1961      1     1                  1011.7   \n",
       "1      1  1961      1     2                  1020.2   \n",
       "2      2  1961      1     3                  1021.3   \n",
       "3      3  1961      1     4                  1004.6   \n",
       "4      4  1961      1     5                  1016.3   \n",
       "\n",
       "   Sea level average pressure  Total precipitation  \\\n",
       "0                      1012.4                  0.0   \n",
       "1                      1021.0                  0.0   \n",
       "2                      1022.1                  0.1   \n",
       "3                      1005.3                 20.2   \n",
       "4                      1017.0                  0.0   \n",
       "\n",
       "   1 hour maximum precipitation  10 minutes Maximum precipitation  \\\n",
       "0                           0.0                               0.0   \n",
       "1                           0.0                               0.0   \n",
       "2                           0.8                               0.0   \n",
       "3                          13.9                               3.2   \n",
       "4                           0.0                               0.0   \n",
       "\n",
       "   Average temperature  Highest temperature  Lowest Temperature  \\\n",
       "0                  2.1                  7.9                -3.9   \n",
       "1                  1.5                  9.2                -3.3   \n",
       "2                  2.5                  7.3                -2.4   \n",
       "3                  4.7                 11.5                 0.6   \n",
       "4                  3.8                  7.7                 1.4   \n",
       "\n",
       "   Average humidity  Minimum humidity  Sunshine hours  \n",
       "0                41                15             8.6  \n",
       "1                51                26             8.7  \n",
       "2                58                37             5.4  \n",
       "3                60                38             1.0  \n",
       "4                33                19             8.3  "
      ]
     },
     "execution_count": 52,
     "metadata": {},
     "output_type": "execute_result"
    }
   ],
   "source": [
    "# I use Google Translate to rename all column labels to English\n",
    "tokyo_weather_columns = [\"index\", \"year\", \"month\", \"date\",\"Local average pressure\", \n",
    "                         \"Sea level average pressure\", \"Total precipitation\", \n",
    "                         \"1 hour maximum precipitation\", \"10 minutes Maximum precipitation\", \n",
    "                         \"Average temperature\", \"Highest temperature\", \"Lowest Temperature\", \n",
    "                         \"Average humidity\", \"Minimum humidity\", \"Sunshine hours\"]\n",
    "df_tokyo_weather.set_axis(tokyo_weather_columns, axis = \"columns\", inplace=True)\n",
    "df_tokyo_weather.iloc[0:5,]"
   ]
  },
  {
   "cell_type": "code",
   "execution_count": 8,
   "metadata": {},
   "outputs": [],
   "source": [
    "df_tokyo = clone(df_tokyo_weather)\n",
    "df_tokyo['is blooming date'] = False\n",
    "\n",
    "for idx, row in df_tokyo.iterrows():\n",
    "    year, month, date = row['year'], row['month'], row['date']\n",
    "    if (year, month, date) in tokyo_bloom_date_data:\n",
    "        df_tokyo.loc[idx,'is blooming date'] = True"
   ]
  },
  {
   "cell_type": "code",
   "execution_count": 9,
   "metadata": {},
   "outputs": [],
   "source": [
    "# Split the test and train data\n",
    "test_year = [1966, 1971, 1985, 1994, 2008] \n",
    "train_year = list(range(1961,2018))\n",
    "for year in test_year:\n",
    "    train_year.remove(year)\n",
    "    \n",
    "train_data = df_tokyo[~df_tokyo['year'].isin(test_year)]\n",
    "test_data = df_tokyo[df_tokyo['year'].isin(test_year)]"
   ]
  },
  {
   "cell_type": "markdown",
   "metadata": {},
   "source": [
    "***\n",
    "## 1. Prediction using the \"600 Degree Rule\" (15pts total)"
   ]
  },
  {
   "cell_type": "markdown",
   "metadata": {},
   "source": [
    "For a rough approximaton of the bloom-date, we start with a simple \"rule-based\" prediction model, called the \"600 Degree Rule\". The rule consists of logging the maximum temperature of each day, starting  on February 1st, and sum these temperatures until the sum surpasses 600$^\\circ$C. The day that this happens is the predicted bloom-date. This 600$^\\circ$C threshold is used to easily predict bloom-date in various locations varies by location. However, for more precise predictions, it should be set differently for every location. In this challenge, we verify the accuracy of the \"600 Degree Rule\" in the case of Tokyo."
   ]
  },
  {
   "cell_type": "markdown",
   "metadata": {},
   "source": [
    "### Problem 1-1: (5pts)\n",
    "From here-on, we refer to the bloom-date in a given year $j$ as $BD_{j}$. For each year in the training data, calculate the accumulated daily maximum temperature from February 1st to the actual bloom-date $BD_{j}$, and plot this accumulated value over the training period. Then, average this accumulated value as $T_{mean}$, and verify whether we should use 600$^\\circ$C as a rule for Tokyo."
   ]
  },
  {
   "cell_type": "code",
   "execution_count": 16,
   "metadata": {},
   "outputs": [],
   "source": [
    "class predictor_600_degree_rule():\n",
    "    def __init__(self, df_tokyo):\n",
    "        self.T_mean = 0\n",
    "        self.df_tokyo = df_tokyo\n",
    "        self.accumulated_temperature = None\n",
    "        self.training_years = None\n",
    "        self.start_month = 2 # February 1st\n",
    "        self.start_date = 1\n",
    "        \n",
    "    # Input a year, a month, a day and get index of that day in df_tokyo\n",
    "    def get_idx(self, year, month, date):\n",
    "        idx = self.df_tokyo.loc[(self.df_tokyo['year'] == year) & \n",
    "                                 (self.df_tokyo['month'] == month) & \n",
    "                                 (self.df_tokyo['date'] == date)][0:1]['index']\n",
    "        return int(idx)  \n",
    "    \n",
    "    def fit(self, training_years):\n",
    "        self.training_years = training_years\n",
    "        self.accumulated_temperature = list()\n",
    "        \n",
    "        df_tokyo_bloom = self.df_tokyo[(self.df_tokyo['is blooming date'] == True) &\n",
    "                                      (self.df_tokyo['year'].isin(training_years))]\n",
    "        for index, row in df_tokyo_bloom.iterrows():\n",
    "            bloom_year, bloom_month, bloom_date = row['year'], row['month'], row['date']\n",
    "            idx_start = self.get_idx(bloom_year, self.start_month, self.start_date)\n",
    "            idx_end = self.get_idx(bloom_year, bloom_month, bloom_date)\n",
    "        #     Get all daily maximum temperature from February 1st to the actual bloom-date\n",
    "            all_max_temp = list(self.df_tokyo['Highest temperature'].iloc[idx_start:idx_end,])\n",
    "            self.accumulated_temperature.append(sum(all_max_temp))\n",
    "        self.T_mean = np.mean(self.accumulated_temperature)\n",
    "        \n",
    "    def plot(self):\n",
    "        plt.plot(self.training_years, self.accumulated_temperature)\n",
    "        plt.xlabel('Year')\n",
    "        plt.ylabel('Accumulated Temperature (°C)')\n",
    "        plt.plot(self.training_years, [600]*len(self.training_years))\n",
    "        plt.show()\n",
    "        \n",
    "    def get_T_mean(self): \n",
    "        return self.T_mean\n",
    "    \n",
    "    # Predict bloom date for years with a specified threshhold\n",
    "    def get_bloom_date(self, input_years, threshold):\n",
    "        bloom_date = list()\n",
    "        bloom_date_count = list()\n",
    "        for year in input_years:\n",
    "            df = self.df_tokyo[(df_tokyo['year'] == year) & \n",
    "                               (self.df_tokyo['month'] >= self.start_month)]\n",
    "            sum_temperature = 0\n",
    "            for idx, row in df.iterrows():\n",
    "                sum_temperature += row['Highest temperature']\n",
    "                if sum_temperature > threshold:\n",
    "                    num_of_date = idx - self.get_idx(year, self.start_month, self.start_date)\n",
    "                    bloom_date.append([year, row['month'], row['date']])\n",
    "                    bloom_date_count.append(num_of_date)\n",
    "                    break\n",
    "        return bloom_date, bloom_date_count\n",
    "    \n",
    "    def predict_with_T_mean(self, input_years):\n",
    "        return self.get_bloom_date(input_years, self.T_mean)\n",
    "    \n",
    "    def predict_with_600(self, input_years):\n",
    "        return self.get_bloom_date(input_years, 600)"
   ]
  },
  {
   "cell_type": "code",
   "execution_count": 17,
   "metadata": {},
   "outputs": [],
   "source": [
    "first_problem_predictor = predictor_600_degree_rule(df_tokyo)"
   ]
  },
  {
   "cell_type": "code",
   "execution_count": 18,
   "metadata": {},
   "outputs": [],
   "source": [
    "first_problem_predictor.fit(train_year)"
   ]
  },
  {
   "cell_type": "code",
   "execution_count": 19,
   "metadata": {},
   "outputs": [
    {
     "name": "stdout",
     "output_type": "stream",
     "text": [
      "T_mean for the training data is:  622.1153846153846\n"
     ]
    }
   ],
   "source": [
    "print('T_mean for the training data is: ', first_problem_predictor.get_T_mean())"
   ]
  },
  {
   "cell_type": "code",
   "execution_count": 20,
   "metadata": {},
   "outputs": [
    {
     "data": {
      "image/png": "[encoded data removed]",
      "text/plain": [
       "<Figure size 432x288 with 1 Axes>"
      ]
     },
     "metadata": {
      "needs_background": "light"
     },
     "output_type": "display_data"
    }
   ],
   "source": [
    "first_problem_predictor.plot()"
   ]
  },
  {
   "cell_type": "markdown",
   "metadata": {},
   "source": [
    "### Problem 1-2: (10pts)\n",
    "\n",
    "Use the average accumulated value $T_{mean}$ calculated in 1-1 to predict $BD_{j}$ for each test year, and show the error from the actual $BD_{j}$. Compare to the prediction results when 600$^\\circ$C is used a threshold value, and evaluate both models using the coefficient of determination ($R^2$ score)."
   ]
  },
  {
   "cell_type": "code",
   "execution_count": 22,
   "metadata": {},
   "outputs": [
    {
     "name": "stdout",
     "output_type": "stream",
     "text": [
      "BD predicted with T_mean:      [[1966, 3, 22], [1971, 3, 28], [1985, 3, 31], [1994, 3, 29], [2008, 3, 24]]\n",
      "BD predicted with 600 degree:  [[1966, 3, 20], [1971, 3, 27], [1985, 3, 29], [1994, 3, 28], [2008, 3, 23]]\n",
      "BD count predicted with T_mean:      [49, 55, 58, 56, 52]\n",
      "BD count predicted with 600 degree:  [47, 54, 56, 55, 51]\n"
     ]
    }
   ],
   "source": [
    "# Get number of date from Feb 1st to the predicted blooming date (for both T_mean and 600 degree threshold)\n",
    "BD_T, BD_count_T = first_problem_predictor.predict_with_T_mean(test_year)\n",
    "BD_600, BD_count_600 = first_problem_predictor.predict_with_600(test_year)\n",
    "print('BD predicted with T_mean:     ', BD_T)\n",
    "print('BD predicted with 600 degree: ', BD_600)\n",
    "print('BD count predicted with T_mean:     ', BD_count_T)\n",
    "print('BD count predicted with 600 degree: ', BD_count_600)"
   ]
  },
  {
   "cell_type": "code",
   "execution_count": 28,
   "metadata": {},
   "outputs": [
    {
     "name": "stdout",
     "output_type": "stream",
     "text": [
      "Actual BD count:  [47, 57, 61, 58, 50]\n"
     ]
    }
   ],
   "source": [
    " # Input a year, a month, a day and get index of that day in df_tokyo\n",
    "def get_idx(year, month, date):\n",
    "    idx = df_tokyo.loc[(df_tokyo['year'] == year) & \n",
    "                     (df_tokyo['month'] == month) & \n",
    "                     (df_tokyo['date'] == date)][0:1]['index']\n",
    "    return int(idx)  \n",
    "\n",
    "# Get the number of date from Feb 1st to the actual blooming date of years in testing years\n",
    "BD_count_actual = list()\n",
    "for index, row in test_data.iterrows():\n",
    "    if not row['is blooming date']:\n",
    "        continue\n",
    "    bloom_year, bloom_month, bloom_date = row['year'], row['month'], row['date']\n",
    "    idx_start = get_idx(bloom_year, 2, 1)\n",
    "    idx_end   = get_idx(bloom_year, bloom_month, bloom_date)\n",
    "    BD_count_actual.append(idx_end - idx_start)\n",
    "    \n",
    "print('Actual BD count: ', BD_count_actual)"
   ]
  },
  {
   "cell_type": "code",
   "execution_count": 29,
   "metadata": {},
   "outputs": [
    {
     "name": "stdout",
     "output_type": "stream",
     "text": [
      "Compute R2 score using sklearn:\n",
      "R2 Score for the threshold of 600:     0.6793002915451896\n",
      "R2 Score for the threshold of T_mean:  0.8177842565597667\n"
     ]
    }
   ],
   "source": [
    "print('Compute R2 score using sklearn:')\n",
    "print('R2 Score for the threshold of 600:    ',sklearn_r2_score(BD_count_actual, BD_count_600))\n",
    "print('R2 Score for the threshold of T_mean: ',sklearn_r2_score(BD_count_actual, BD_count_T))"
   ]
  },
  {
   "cell_type": "code",
   "execution_count": 30,
   "metadata": {},
   "outputs": [],
   "source": [
    "def r2_score(y_true, y_pred):\n",
    "    y_true_mean = np.mean(y_true)\n",
    "    SS_total = sum([(y-y_true_mean)**2 for y in y_true])\n",
    "    SS_res = sum([(yi-fi)**2 for yi, fi in zip(y_true, y_pred)])\n",
    "    return 1 - SS_res/SS_total"
   ]
  },
  {
   "cell_type": "code",
   "execution_count": 31,
   "metadata": {},
   "outputs": [
    {
     "name": "stdout",
     "output_type": "stream",
     "text": [
      "Compute R2 score using self-implemented function:\n",
      "R2 Score for the threshold of 600:     0.6793002915451896\n",
      "R2 Score for the threshold of T_mean:  0.8177842565597667\n"
     ]
    }
   ],
   "source": [
    "print('Compute R2 score using self-implemented function:')\n",
    "print('R2 Score for the threshold of 600:    ',r2_score(BD_count_actual, BD_count_600))\n",
    "print('R2 Score for the threshold of T_mean: ',r2_score(BD_count_actual, BD_count_T))"
   ]
  },
  {
   "cell_type": "markdown",
   "metadata": {},
   "source": [
    "***\n",
    "## 2. Linear Regression Model: Transform to Standard Temperature (30pts total)"
   ]
  },
  {
   "cell_type": "markdown",
   "metadata": {},
   "source": [
    "The year to year fluctuation of the bloom-date depends heavily upon the actual temperature fluctuation (not just the accumulated maximum). In order to get to a more physiologically realistic metric,  Sugihara et al. (1986) considered the actual effect of temperature on biochemical activity. They introduced a method of \"standardizing\" the temperatures measured, according to the fluctuation relative to a standard temperature.\n",
    "\n",
    "In order to make such a standardization, we apply two major assumptions, outlined below.\n",
    "\n",
    "#### 1) The Arrhenius equation: <br>\n",
    "\n",
    "The first assumption, also known in thermodynamics as the \"Arrhenius equation\", deals with chemical reaction rates and can be written as follows:\n",
    "\n",
    "$$\n",
    "k = A \\exp{ \\Bigl(- \\frac{E_{a}}{RT}} \\Bigr)\n",
    "$$ <br>\n",
    "\n",
    "Basically, it says that each reaction has an activation energy, $E_{a}$ and a pre-exponential factor $A$. Knowing these values for the particular equation, we can find the rate constant $k$ if we know the temperature, $T$, and applying the universal gas constant, $R = 8.314 \\rm [J/K・mol]$.\n",
    "\n",
    "#### 2) Constant output at constant temperature: <br>\n",
    "\n",
    "The second assumption, is simply that the output of a reaction is a simple product of the duration and the rate constant $k$, and that product is constant even at different temperatures.\n",
    "    \n",
    "$$\n",
    "tk = t'k' = t''k'' = \\cdots = \\rm{const}\n",
    "$$ <br>\n",
    "\n",
    "\n",
    "Making the assumptions above, we can determine a \"standard reaction time\", $t_{s}$ required for the bloom-date to occur. We can do so in the following way:\n",
    "\n",
    "<br>\n",
    "$$\n",
    "t_{s} = \\exp \\Bigl( \\frac{E_{a}(T_{i, j} - T_{s})}{RT_{i, j}T_{s}}\\Bigr)\n",
    "$$ <br>\n",
    "\n",
    "We define $T_{i, j}$ as the daily average temperature, and use a standard temperature of $T_{s} = 17^\\circ\\rm{C}$. For a given year $j$, with the last day of the hibernation phase set as $D_ {j}$, we define the number of \"transformed temperature days\",  $DTS_{ J}$,  needed to reach from $D_ {j}$ to the bloom-date $BD_{j}$ with the following equation:\n",
    "\n",
    "\n",
    "<br>\n",
    "$$\n",
    "DTS_{j} = \\sum_{i=D_{j}}^{BD_{j}} t_{s} = \\sum_{i=D_{j}}^{BD_{j}} \\exp \\Bigl( \\frac{E_{a}(T_{i, j} - T_{s})}{RT_{i, j}T_{s}}\\Bigr)\n",
    "$$ <br>\n",
    "\n",
    "\n",
    "\n",
    "From that equation, we can find the average $DTS$ for $x$ number of years ($DTS_{ mean}$) as follows: \n",
    "\n",
    "<br>\n",
    "$$\n",
    "\\begin{align}\n",
    "DTS_{\\rm{mean}} &= \\frac{1}{x} \\sum_{j}^{x} DTS_{j} \\\\\n",
    "&= \\frac{1}{x} \\sum_{j}^{x} \\sum_{i=D_{j}}^{BD_{j}} \\exp \\Bigl( \\frac{E_{a}(T_{i, j} - T_{s})}{RT_{i, j}T_{s}}\\Bigr)\n",
    "\\end{align}\n",
    "$$ <br> <br>\n",
    "\n",
    "In this exercise, we assume that $DTS_{ mean}$ and $E_{ a}$ are constant values, and we use the data from the training years to fit these 2 constants. The exercise consists of 4 steps:\n",
    "1. Calculate the last day of the hibernation phase $D_ {j}$ for every year $j$.\n",
    "2. For every year $j$, calculate $DTS_{ j}$ as a function of $E_{ a}$, then calculate the average (over training years) $DTS_{ mean}$ also as a function of $E_{ a}$.\n",
    "3. For every year $j$, and for every value of $E_{ a}$, accumulate $t_{s}$ from $D_ {j}$ and predict the bloom date $BD_{j}^{\\rm{pred}}$ as the day the accumulated value surpasses $DTS_{ mean}$. Calculate the bloom date prediction error as a function of $E_{ a}$, and find the optimal $E_{ a}$ value that minimizes that error.\n",
    "4. Use the previously calculated values of $D_ {j}$, $DTS_{ mean}$, and $E_{ a}$ to predict bloom-day on years from the test set.\n"
   ]
  },
  {
   "cell_type": "markdown",
   "metadata": {},
   "source": [
    "### Problem 2-1: (5pts)\n",
    "According to Hayashi et al. (2012), the day on which the sakura will awaken from their hibernation phase, $D_{j}$, for a given location, can be approximated by the following equation:\n",
    "<br> <br>\n",
    "$$\n",
    "D_{j} = 136.75 - 7.689 \\phi + 0.133 \\phi^{2} -1.307\\ln L + 0.144T_{F} + 0.285T_{F}^2\n",
    "$$ <br>\n",
    "\n",
    "where $\\phi$ is the latitude [°N], $L$ is the distance from the nearest coastline [km], and $T_{F}$ is that location's average temperature [°C] over the first 3 months of a given year. In the case of Tokyo, $\\phi = 35°40'$ and $L=4\\rm{km}$.\n",
    "\n",
    "Find the $D_{j}$ value for every year $j$ from 1961 to 2017 (including the test years), and plot this value on a graph. \n",
    "\n",
    "(In Problem 1, we had assumed a $D_j$ of February 1st.)"
   ]
  },
  {
   "cell_type": "code",
   "execution_count": 65,
   "metadata": {},
   "outputs": [],
   "source": [
    "PHI = 35 + 40/60\n",
    "PHI2 = np.power(PHI,2)\n",
    "L = 4\n",
    "lnL = np.log(L)\n",
    "def get_Dj(year):\n",
    "    avg_temp_3_month = df_tokyo[(df_tokyo['year']==year) &\n",
    "                       (df_tokyo['month']<=3)]['Average temperature']\n",
    "    T_F = np.mean(avg_temp_3_month)\n",
    "    Dj = 136.75 - 7.689*PHI + 0.133*PHI2 - 1.307*lnL + 0.144*T_F + 0.285*np.power(T_F,2)\n",
    "    return Dj"
   ]
  },
  {
   "cell_type": "code",
   "execution_count": 67,
   "metadata": {},
   "outputs": [],
   "source": [
    "Dj_list = list()\n",
    "for year in range(1961, 2018):\n",
    "    Dj_list.append(get_Dj(year))"
   ]
  },
  {
   "cell_type": "code",
   "execution_count": 76,
   "metadata": {},
   "outputs": [
    {
     "data": {
      "image/png": "[encoded data removed]",
      "text/plain": [
       "<Figure size 432x288 with 1 Axes>"
      ]
     },
     "metadata": {
      "needs_background": "light"
     },
     "output_type": "display_data"
    }
   ],
   "source": [
    "plt.plot(range(1961, 2018), Dj_list, \"r-\")\n",
    "plt.xlabel('Year')\n",
    "plt.ylabel('Dj')\n",
    "plt.show()"
   ]
  },
  {
   "cell_type": "markdown",
   "metadata": {},
   "source": [
    "### Problem 2-2: (10pts)\n",
    "Calcluate $DTS_j$ for each year $j$ in the training set for discrete values of $E_{a}$, varying from 5 to 40kcal ($E_{a} = 5, 6, 7, \\cdots, 40 \\,\\rm{kcal}$), and plot this $DTS_j$ against $E_{a}$. Also calculate the average of $DTS_{j}$ over the training period, and indicate it on the plot as $DTS_{mean}$. Pay attention to the units of **every parameter** ($T_{i,j}$, $E_{a}$, ...) in the equation for $t_{s}$. \n"
   ]
  },
  {
   "cell_type": "code",
   "execution_count": null,
   "metadata": {
    "collapsed": true
   },
   "outputs": [],
   "source": []
  },
  {
   "cell_type": "markdown",
   "metadata": {},
   "source": [
    "### Problem 2-3: (11pts)\n",
    "Using the same $E_{a}$ values and calculated $DTS_{mean}$ from 2-2, predict the bloom date $BD_{j}$ for each of the training years. Find the mean squared error relative to the actual $BD$ and plot it against $E_{a}$. Find the optimal $E_{a}^{*}$ that minimizes that error on the training data."
   ]
  },
  {
   "cell_type": "code",
   "execution_count": null,
   "metadata": {
    "collapsed": true
   },
   "outputs": [],
   "source": []
  },
  {
   "cell_type": "markdown",
   "metadata": {},
   "source": [
    "### Problem 2-4: (4pts)\n",
    "\n",
    "Using the $D_j$ dates from problem 2-1, the average $DTS_{mean}$ from 2-2, and the best-fit $E_{a}^{*}$ from 2-3, predict the bloom-dates $BD_j$ for the years in the test set. Determine the error between your predicted $BD_j$ values and the actual values, and evaluate this model using the coefficient of determination ($R^2$ score)."
   ]
  },
  {
   "cell_type": "code",
   "execution_count": null,
   "metadata": {
    "collapsed": true
   },
   "outputs": [],
   "source": []
  },
  {
   "cell_type": "markdown",
   "metadata": {},
   "source": [
    "### Problem 2-5: (extra 10pts)\n",
    "Discuss any improvements you could make to the model outlined above. If you have a suggestion in particular, describe it. How much do you think the accuracy would be improved?"
   ]
  },
  {
   "cell_type": "code",
   "execution_count": null,
   "metadata": {
    "collapsed": true
   },
   "outputs": [],
   "source": []
  },
  {
   "cell_type": "markdown",
   "metadata": {},
   "source": [
    "***\n",
    "## 3. Predicting Bloom-date via Neural Network (30pts total)"
   ]
  },
  {
   "cell_type": "markdown",
   "metadata": {},
   "source": [
    "### Problem 3-1: (20pts)\n",
    "\n",
    "Build a neural network and train it on the data from the training years. Use this model to predict the bloom-dates for each year in the test set. Evaluate the error between predicted dates and actual dates using the coefficient of determination (R2 score). Only use the weather data given in `tokyo.csv` and the sakura data acquired in problem 0-1.</br>\n",
    "You may use whichever framework or strategy that you like to construct the network. "
   ]
  },
  {
   "cell_type": "code",
   "execution_count": null,
   "metadata": {
    "collapsed": true
   },
   "outputs": [],
   "source": []
  },
  {
   "cell_type": "markdown",
   "metadata": {},
   "source": [
    "### Problem 3-2: (10pts)\n",
    "Compare the performance (via $R^2$ score) of the 3 implementations above: the 600 Degree Rule, the DTS method, and the neural network approach. For all methods, and each test year, plot the predicted date vs. the actual date. Discuss the accuracy and differences of these 3 models."
   ]
  },
  {
   "cell_type": "code",
   "execution_count": null,
   "metadata": {
    "collapsed": true
   },
   "outputs": [],
   "source": []
  },
  {
   "cell_type": "markdown",
   "metadata": {},
   "source": [
    "***\n",
    "## 4. Trends of the Sakura blooming phenomenon (20pts total)"
   ]
  },
  {
   "cell_type": "markdown",
   "metadata": {},
   "source": [
    "### Problem 4-1: (20pts)\n",
    "Based on the data from the past 60 years, investigate and discuss trends in the sakura hibernation ($D_{j}$) and blooming ($BD_{j}$) phenomena in Tokyo."
   ]
  },
  {
   "cell_type": "code",
   "execution_count": null,
   "metadata": {
    "collapsed": true
   },
   "outputs": [],
   "source": []
  }
 ],
 "metadata": {
  "kernel_info": {
   "name": "python2"
  },
  "kernelspec": {
   "display_name": "Python 3",
   "language": "python",
   "name": "python3"
  },
  "language_info": {
   "codemirror_mode": {
    "name": "ipython",
    "version": 3
   },
   "file_extension": ".py",
   "mimetype": "text/x-python",
   "name": "python",
   "nbconvert_exporter": "python",
   "pygments_lexer": "ipython3",
   "version": "3.7.2"
  }
 },
 "nbformat": 4,
 "nbformat_minor": 2
}
